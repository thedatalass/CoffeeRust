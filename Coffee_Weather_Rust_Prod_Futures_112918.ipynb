{
 "cells": [
  {
   "cell_type": "markdown",
   "metadata": {
    "collapsed": true
   },
   "source": [
    "__Morning Joe__: Visualizing Coffee Futures by Laura Kahn \n",
    "\n",
    "__Problem__: *Is there a relationship between rainfall, temperature, coffee leaf rust, production and futures?*"
   ]
  },
  {
   "cell_type": "markdown",
   "metadata": {},
   "source": [
    "__Data Acquisition__: \n",
    "\n",
    "*Data Sources\n",
    "\n",
    "-  Rust data from Varginha, Brasil (September 2005-August 2006): Meira figure 2\n",
    "-  Rust Data from Adamantina, Brasil (September 1-11, 2008 and September 1-September 11,2009): Paulo figure 1\n",
    "-  Rust Data from La Catalina, Naranjal, Supia, Colombia (January-December 1995): Ruiz Cardenas figures 1 and 7\n",
    "-  Rust Data from Naranjal, Colombia (August 2011-December 2013): Corrales supplemental data file\n",
    "-  Rust Data from Yate, Canala New Caledonia (March 1989-November 1991): Lamouroux\n",
    "-  Production data:  http://www.ico.org/new_historical.asp?section=Statistics\n",
    "-  Futures data for all countries from http://data.tradingcharts.com/futures/quotes/kc.html\n",
    "\n",
    "*Data Assumptions\n",
    "\n",
    "- Curated dataset has 335 observations of four input variables: average rain (mm), average temperature (degrees C), rust (percent disease that covers the plant leaf), production (1000-60 kg bags of beans) and one target variable: futures (in USD)\n",
    "\n",
    "*Missing Data Methods\n",
    "\n",
    "- The 81 additional observations from Brasil in 2008 and 2009 were calculated using the ranking-kNN method as described in Beretta L, Santaniello A. \"Nearest neighbor imputation algorithms: a critical evaluation\". BMC Med Inform Decis Mak. 2016 Jul 25;16 Suppl 3:74. https://doi.org/10.1186/s12911-016-0318-z.\n",
    "- Additional code documentation at: https://github.com/LBcoding/ranking-kNN-imputation"
   ]
  },
  {
   "cell_type": "code",
   "execution_count": 105,
   "metadata": {},
   "outputs": [],
   "source": [
    "#CMD - pip install pytz, pip install pandas, pip install matplotlib, pip install numpy\n",
    "#Import libraries\n",
    "import pandas as pd\n",
    "import numpy as np\n",
    "import matplotlib.pyplot as plt\n",
    "import seaborn as sns\n",
    "sns.set_style('white')\n",
    "%matplotlib inline"
   ]
  },
  {
   "cell_type": "code",
   "execution_count": 106,
   "metadata": {
    "scrolled": true
   },
   "outputs": [
    {
     "data": {
      "text/html": [
       "<div>\n",
       "<style scoped>\n",
       "    .dataframe tbody tr th:only-of-type {\n",
       "        vertical-align: middle;\n",
       "    }\n",
       "\n",
       "    .dataframe tbody tr th {\n",
       "        vertical-align: top;\n",
       "    }\n",
       "\n",
       "    .dataframe thead th {\n",
       "        text-align: right;\n",
       "    }\n",
       "</style>\n",
       "<table border=\"1\" class=\"dataframe\">\n",
       "  <thead>\n",
       "    <tr style=\"text-align: right;\">\n",
       "      <th></th>\n",
       "      <th>Date</th>\n",
       "      <th>Rainfall</th>\n",
       "      <th>Temperature</th>\n",
       "      <th>Rust</th>\n",
       "      <th>Production</th>\n",
       "      <th>Futures</th>\n",
       "    </tr>\n",
       "  </thead>\n",
       "  <tbody>\n",
       "    <tr>\n",
       "      <th>0</th>\n",
       "      <td>3/15/1989</td>\n",
       "      <td>352.42</td>\n",
       "      <td>25.28</td>\n",
       "      <td>6.33</td>\n",
       "      <td>97.92</td>\n",
       "      <td>23.18</td>\n",
       "    </tr>\n",
       "    <tr>\n",
       "      <th>1</th>\n",
       "      <td>3/31/1989</td>\n",
       "      <td>352.42</td>\n",
       "      <td>25.28</td>\n",
       "      <td>6.33</td>\n",
       "      <td>97.92</td>\n",
       "      <td>23.89</td>\n",
       "    </tr>\n",
       "    <tr>\n",
       "      <th>2</th>\n",
       "      <td>4/14/1989</td>\n",
       "      <td>309.50</td>\n",
       "      <td>25.35</td>\n",
       "      <td>15.67</td>\n",
       "      <td>97.92</td>\n",
       "      <td>26.27</td>\n",
       "    </tr>\n",
       "    <tr>\n",
       "      <th>3</th>\n",
       "      <td>4/28/1989</td>\n",
       "      <td>309.50</td>\n",
       "      <td>25.35</td>\n",
       "      <td>15.67</td>\n",
       "      <td>97.92</td>\n",
       "      <td>25.60</td>\n",
       "    </tr>\n",
       "    <tr>\n",
       "      <th>4</th>\n",
       "      <td>5/15/1989</td>\n",
       "      <td>252.75</td>\n",
       "      <td>25.32</td>\n",
       "      <td>23.33</td>\n",
       "      <td>97.92</td>\n",
       "      <td>22.85</td>\n",
       "    </tr>\n",
       "  </tbody>\n",
       "</table>\n",
       "</div>"
      ],
      "text/plain": [
       "        Date  Rainfall  Temperature   Rust  Production  Futures\n",
       "0  3/15/1989    352.42        25.28   6.33       97.92    23.18\n",
       "1  3/31/1989    352.42        25.28   6.33       97.92    23.89\n",
       "2  4/14/1989    309.50        25.35  15.67       97.92    26.27\n",
       "3  4/28/1989    309.50        25.35  15.67       97.92    25.60\n",
       "4  5/15/1989    252.75        25.32  23.33       97.92    22.85"
      ]
     },
     "execution_count": 106,
     "metadata": {},
     "output_type": "execute_result"
    }
   ],
   "source": [
    "#Read the CSV into a data frame without country names\n",
    "\n",
    "#This dataset contains 120 missing values from Colombia and Brasil\n",
    "df = pd.read_csv('Coffee-Rust-Nov17.csv')\n",
    "df.head()"
   ]
  },
  {
   "cell_type": "markdown",
   "metadata": {},
   "source": [
    "### Now let's fill in the missing values using the kNN ranking data imputation method"
   ]
  },
  {
   "cell_type": "code",
   "execution_count": 5,
   "metadata": {},
   "outputs": [
    {
     "data": {
      "text/plain": [
       "'\\nAn imputation method based on ranking and nearest neighbor.\\n    \\nBeretta L, Santaniello A. Nearest neighbor imputation algorithms: a critical\\nevaluation. BMC Med Inform Decis Mak. 2016 Jul 25;16 Suppl 3:74.\\n'"
      ]
     },
     "execution_count": 5,
     "metadata": {},
     "output_type": "execute_result"
    }
   ],
   "source": [
    "'''\n",
    "An imputation method based on ranking and nearest neighbor.\n",
    "    \n",
    "Beretta L, Santaniello A. Nearest neighbor imputation algorithms: a critical\n",
    "evaluation. BMC Med Inform Decis Mak. 2016 Jul 25;16 Suppl 3:74.\n",
    "'''\n",
    "#Author: Lorenzo Beretta, lorberimm@hotmail.com\n",
    "\n",
    "#Adapted by L Kahn; 11/20/18\n",
    "\n",
    "#Dependencies Installation\n",
    "#pip install rkNN-imputer, pip install sk-rebate"
   ]
  },
  {
   "cell_type": "code",
   "execution_count": 107,
   "metadata": {},
   "outputs": [
    {
     "name": "stdout",
     "output_type": "stream",
     "text": [
      "None\n",
      "None\n",
      "None\n",
      "None\n",
      "None\n",
      "None\n",
      "None\n",
      "None\n",
      "None\n",
      "None\n",
      "None\n",
      "None\n",
      "None\n",
      "None\n",
      "None\n",
      "None\n",
      "None\n",
      "None\n",
      "None\n",
      "None\n",
      "None\n",
      "None\n",
      "None\n",
      "None\n",
      "None\n",
      "None\n",
      "None\n",
      "None\n",
      "None\n",
      "None\n",
      "None\n",
      "None\n",
      "None\n",
      "None\n",
      "None\n",
      "None\n",
      "None\n",
      "None\n",
      "None\n",
      "None\n",
      "None\n",
      "None\n",
      "None\n",
      "None\n",
      "None\n",
      "None\n",
      "None\n",
      "None\n",
      "None\n",
      "None\n",
      "None\n",
      "None\n",
      "None\n",
      "None\n",
      "None\n",
      "None\n",
      "None\n",
      "None\n",
      "None\n",
      "None\n",
      "None\n",
      "None\n",
      "None\n",
      "None\n",
      "None\n",
      "None\n",
      "None\n",
      "None\n",
      "None\n",
      "None\n",
      "None\n",
      "None\n",
      "None\n",
      "None\n",
      "None\n",
      "None\n",
      "None\n",
      "None\n",
      "None\n",
      "None\n",
      "None\n",
      "None\n",
      "None\n",
      "None\n",
      "None\n",
      "None\n",
      "None\n",
      "None\n",
      "None\n",
      "None\n",
      "None\n",
      "None\n",
      "None\n",
      "None\n",
      "None\n",
      "None\n",
      "None\n",
      "None\n",
      "None\n",
      "None\n",
      "None\n",
      "None\n",
      "None\n",
      "None\n",
      "None\n",
      "None\n",
      "None\n"
     ]
    }
   ],
   "source": [
    "#Delete date column\n",
    "final =  df.drop(df.columns[0], axis=1)\n",
    "\n",
    "#Convert pandas dataframe as numpy array\n",
    "array = final.values\n",
    "\n",
    "from rkNN_imputer.rkNN import rkNN\n",
    "\n",
    "imp = rkNN ()\n",
    "imp.fit (array)\n",
    "imputed_array = imp.transform (array)"
   ]
  },
  {
   "cell_type": "code",
   "execution_count": 27,
   "metadata": {},
   "outputs": [
    {
     "data": {
      "text/plain": [
       "array([[ 352.42,   25.28,    6.33,   97.92,   23.18],\n",
       "       [ 352.42,   25.28,    6.33,   97.92,   23.89],\n",
       "       [ 309.5 ,   25.35,   15.67,   97.92,   26.27],\n",
       "       ...,\n",
       "       [ 124.1 ,   25.69,    8.78, 1111.08,  165.84],\n",
       "       [ 124.1 ,   25.69,    8.78, 1111.08,  174.07],\n",
       "       [ 124.1 ,   25.69,    8.78, 1111.08,  175.18]])"
      ]
     },
     "execution_count": 27,
     "metadata": {},
     "output_type": "execute_result"
    }
   ],
   "source": [
    "#Let's look at just the array\n",
    "imputed_array"
   ]
  },
  {
   "cell_type": "code",
   "execution_count": 108,
   "metadata": {},
   "outputs": [
    {
     "data": {
      "text/html": [
       "<div>\n",
       "<style scoped>\n",
       "    .dataframe tbody tr th:only-of-type {\n",
       "        vertical-align: middle;\n",
       "    }\n",
       "\n",
       "    .dataframe tbody tr th {\n",
       "        vertical-align: top;\n",
       "    }\n",
       "\n",
       "    .dataframe thead th {\n",
       "        text-align: right;\n",
       "    }\n",
       "</style>\n",
       "<table border=\"1\" class=\"dataframe\">\n",
       "  <thead>\n",
       "    <tr style=\"text-align: right;\">\n",
       "      <th></th>\n",
       "      <th>Rainfall</th>\n",
       "      <th>Temperature</th>\n",
       "      <th>Rust</th>\n",
       "      <th>Production</th>\n",
       "      <th>Futures</th>\n",
       "    </tr>\n",
       "  </thead>\n",
       "  <tbody>\n",
       "    <tr>\n",
       "      <th>0</th>\n",
       "      <td>352.42</td>\n",
       "      <td>25.28</td>\n",
       "      <td>6.33</td>\n",
       "      <td>97.92</td>\n",
       "      <td>23.18</td>\n",
       "    </tr>\n",
       "    <tr>\n",
       "      <th>1</th>\n",
       "      <td>352.42</td>\n",
       "      <td>25.28</td>\n",
       "      <td>6.33</td>\n",
       "      <td>97.92</td>\n",
       "      <td>23.89</td>\n",
       "    </tr>\n",
       "    <tr>\n",
       "      <th>2</th>\n",
       "      <td>309.50</td>\n",
       "      <td>25.35</td>\n",
       "      <td>15.67</td>\n",
       "      <td>97.92</td>\n",
       "      <td>26.27</td>\n",
       "    </tr>\n",
       "    <tr>\n",
       "      <th>3</th>\n",
       "      <td>309.50</td>\n",
       "      <td>25.35</td>\n",
       "      <td>15.67</td>\n",
       "      <td>97.92</td>\n",
       "      <td>25.60</td>\n",
       "    </tr>\n",
       "    <tr>\n",
       "      <th>4</th>\n",
       "      <td>252.75</td>\n",
       "      <td>25.32</td>\n",
       "      <td>23.33</td>\n",
       "      <td>97.92</td>\n",
       "      <td>22.85</td>\n",
       "    </tr>\n",
       "  </tbody>\n",
       "</table>\n",
       "</div>"
      ],
      "text/plain": [
       "   Rainfall  Temperature   Rust  Production  Futures\n",
       "0    352.42        25.28   6.33       97.92    23.18\n",
       "1    352.42        25.28   6.33       97.92    23.89\n",
       "2    309.50        25.35  15.67       97.92    26.27\n",
       "3    309.50        25.35  15.67       97.92    25.60\n",
       "4    252.75        25.32  23.33       97.92    22.85"
      ]
     },
     "execution_count": 108,
     "metadata": {},
     "output_type": "execute_result"
    }
   ],
   "source": [
    "#Convert imputed values back to pandas dataframe\n",
    "\n",
    "#Code adapted from https://www.ritchieng.com/creating-dataframe-from-objects/\n",
    "# columns\n",
    "columns_new = ['Rainfall', 'Temperature','Rust','Production','Futures']\n",
    "\n",
    "# pass in array and columns\n",
    "new = pd.DataFrame(imputed_array, columns=columns_new)\n",
    "new.head()"
   ]
  },
  {
   "cell_type": "code",
   "execution_count": 110,
   "metadata": {},
   "outputs": [],
   "source": [
    "#Save imputed dataframe \"new\" to CSV\n",
    "new.to_csv(\"new2.csv\")"
   ]
  },
  {
   "cell_type": "code",
   "execution_count": 111,
   "metadata": {},
   "outputs": [
    {
     "data": {
      "text/html": [
       "<div>\n",
       "<style scoped>\n",
       "    .dataframe tbody tr th:only-of-type {\n",
       "        vertical-align: middle;\n",
       "    }\n",
       "\n",
       "    .dataframe tbody tr th {\n",
       "        vertical-align: top;\n",
       "    }\n",
       "\n",
       "    .dataframe thead th {\n",
       "        text-align: right;\n",
       "    }\n",
       "</style>\n",
       "<table border=\"1\" class=\"dataframe\">\n",
       "  <thead>\n",
       "    <tr style=\"text-align: right;\">\n",
       "      <th></th>\n",
       "      <th>Unnamed: 0</th>\n",
       "      <th>Rainfall</th>\n",
       "      <th>Temperature</th>\n",
       "      <th>Rust</th>\n",
       "      <th>Production</th>\n",
       "      <th>Futures</th>\n",
       "    </tr>\n",
       "  </thead>\n",
       "  <tbody>\n",
       "    <tr>\n",
       "      <th>0</th>\n",
       "      <td>0</td>\n",
       "      <td>352.42</td>\n",
       "      <td>25.28</td>\n",
       "      <td>6.33</td>\n",
       "      <td>97.92</td>\n",
       "      <td>23.18</td>\n",
       "    </tr>\n",
       "    <tr>\n",
       "      <th>1</th>\n",
       "      <td>1</td>\n",
       "      <td>352.42</td>\n",
       "      <td>25.28</td>\n",
       "      <td>6.33</td>\n",
       "      <td>97.92</td>\n",
       "      <td>23.89</td>\n",
       "    </tr>\n",
       "    <tr>\n",
       "      <th>2</th>\n",
       "      <td>2</td>\n",
       "      <td>309.50</td>\n",
       "      <td>25.35</td>\n",
       "      <td>15.67</td>\n",
       "      <td>97.92</td>\n",
       "      <td>26.27</td>\n",
       "    </tr>\n",
       "    <tr>\n",
       "      <th>3</th>\n",
       "      <td>3</td>\n",
       "      <td>309.50</td>\n",
       "      <td>25.35</td>\n",
       "      <td>15.67</td>\n",
       "      <td>97.92</td>\n",
       "      <td>25.60</td>\n",
       "    </tr>\n",
       "    <tr>\n",
       "      <th>4</th>\n",
       "      <td>4</td>\n",
       "      <td>252.75</td>\n",
       "      <td>25.32</td>\n",
       "      <td>23.33</td>\n",
       "      <td>97.92</td>\n",
       "      <td>22.85</td>\n",
       "    </tr>\n",
       "  </tbody>\n",
       "</table>\n",
       "</div>"
      ],
      "text/plain": [
       "   Unnamed: 0  Rainfall  Temperature   Rust  Production  Futures\n",
       "0           0    352.42        25.28   6.33       97.92    23.18\n",
       "1           1    352.42        25.28   6.33       97.92    23.89\n",
       "2           2    309.50        25.35  15.67       97.92    26.27\n",
       "3           3    309.50        25.35  15.67       97.92    25.60\n",
       "4           4    252.75        25.32  23.33       97.92    22.85"
      ]
     },
     "execution_count": 111,
     "metadata": {},
     "output_type": "execute_result"
    }
   ],
   "source": [
    "#Add date column back in to the \"new\" imputed dataframe.\n",
    "df2 = pd.read_csv('new2.csv')\n",
    "df2.head()"
   ]
  },
  {
   "cell_type": "markdown",
   "metadata": {},
   "source": [
    "## Exploratory data analysis\n",
    "### Let's start by looking at the summary statistics for each variable in the data."
   ]
  },
  {
   "cell_type": "code",
   "execution_count": 112,
   "metadata": {
    "scrolled": true
   },
   "outputs": [
    {
     "data": {
      "text/html": [
       "<div>\n",
       "<style scoped>\n",
       "    .dataframe tbody tr th:only-of-type {\n",
       "        vertical-align: middle;\n",
       "    }\n",
       "\n",
       "    .dataframe tbody tr th {\n",
       "        vertical-align: top;\n",
       "    }\n",
       "\n",
       "    .dataframe thead th {\n",
       "        text-align: right;\n",
       "    }\n",
       "</style>\n",
       "<table border=\"1\" class=\"dataframe\">\n",
       "  <thead>\n",
       "    <tr style=\"text-align: right;\">\n",
       "      <th></th>\n",
       "      <th>Unnamed: 0</th>\n",
       "      <th>Rainfall</th>\n",
       "      <th>Temperature</th>\n",
       "      <th>Rust</th>\n",
       "      <th>Production</th>\n",
       "      <th>Futures</th>\n",
       "    </tr>\n",
       "  </thead>\n",
       "  <tbody>\n",
       "    <tr>\n",
       "      <th>count</th>\n",
       "      <td>323.000000</td>\n",
       "      <td>323.000000</td>\n",
       "      <td>323.000000</td>\n",
       "      <td>323.000000</td>\n",
       "      <td>323.000000</td>\n",
       "      <td>323.000000</td>\n",
       "    </tr>\n",
       "    <tr>\n",
       "      <th>mean</th>\n",
       "      <td>161.000000</td>\n",
       "      <td>189.918111</td>\n",
       "      <td>25.153560</td>\n",
       "      <td>13.762908</td>\n",
       "      <td>1649.058916</td>\n",
       "      <td>91.100217</td>\n",
       "    </tr>\n",
       "    <tr>\n",
       "      <th>std</th>\n",
       "      <td>93.386294</td>\n",
       "      <td>92.658214</td>\n",
       "      <td>0.815875</td>\n",
       "      <td>11.107253</td>\n",
       "      <td>1240.730643</td>\n",
       "      <td>45.488614</td>\n",
       "    </tr>\n",
       "    <tr>\n",
       "      <th>min</th>\n",
       "      <td>0.000000</td>\n",
       "      <td>1.800000</td>\n",
       "      <td>23.470000</td>\n",
       "      <td>0.000000</td>\n",
       "      <td>80.330000</td>\n",
       "      <td>21.980000</td>\n",
       "    </tr>\n",
       "    <tr>\n",
       "      <th>25%</th>\n",
       "      <td>80.500000</td>\n",
       "      <td>117.400000</td>\n",
       "      <td>24.560000</td>\n",
       "      <td>5.000000</td>\n",
       "      <td>1010.330000</td>\n",
       "      <td>39.035000</td>\n",
       "    </tr>\n",
       "    <tr>\n",
       "      <th>50%</th>\n",
       "      <td>161.000000</td>\n",
       "      <td>190.160000</td>\n",
       "      <td>25.050000</td>\n",
       "      <td>12.410000</td>\n",
       "      <td>1073.170000</td>\n",
       "      <td>103.830000</td>\n",
       "    </tr>\n",
       "    <tr>\n",
       "      <th>75%</th>\n",
       "      <td>241.500000</td>\n",
       "      <td>257.360000</td>\n",
       "      <td>25.780000</td>\n",
       "      <td>20.000000</td>\n",
       "      <td>2783.330000</td>\n",
       "      <td>129.580000</td>\n",
       "    </tr>\n",
       "    <tr>\n",
       "      <th>max</th>\n",
       "      <td>322.000000</td>\n",
       "      <td>407.700000</td>\n",
       "      <td>27.160000</td>\n",
       "      <td>50.000000</td>\n",
       "      <td>3832.670000</td>\n",
       "      <td>175.180000</td>\n",
       "    </tr>\n",
       "  </tbody>\n",
       "</table>\n",
       "</div>"
      ],
      "text/plain": [
       "       Unnamed: 0    Rainfall  Temperature        Rust   Production  \\\n",
       "count  323.000000  323.000000   323.000000  323.000000   323.000000   \n",
       "mean   161.000000  189.918111    25.153560   13.762908  1649.058916   \n",
       "std     93.386294   92.658214     0.815875   11.107253  1240.730643   \n",
       "min      0.000000    1.800000    23.470000    0.000000    80.330000   \n",
       "25%     80.500000  117.400000    24.560000    5.000000  1010.330000   \n",
       "50%    161.000000  190.160000    25.050000   12.410000  1073.170000   \n",
       "75%    241.500000  257.360000    25.780000   20.000000  2783.330000   \n",
       "max    322.000000  407.700000    27.160000   50.000000  3832.670000   \n",
       "\n",
       "          Futures  \n",
       "count  323.000000  \n",
       "mean    91.100217  \n",
       "std     45.488614  \n",
       "min     21.980000  \n",
       "25%     39.035000  \n",
       "50%    103.830000  \n",
       "75%    129.580000  \n",
       "max    175.180000  "
      ]
     },
     "execution_count": 112,
     "metadata": {},
     "output_type": "execute_result"
    }
   ],
   "source": [
    "df2.describe()"
   ]
  },
  {
   "cell_type": "markdown",
   "metadata": {},
   "source": [
    "-  Rainfall ranges from 1.8 - 407.7 mm with a mean of 189.92.\n",
    "-  Temperature ranges from 23.47-27.16 C with a mean of 25.15.\n",
    "-  Rust ranges from 0 - 50% with a mean of 13.763.\n",
    "-  Production ranges from 80.33-3832.67 1000-60kg bags of beans with a mean of 1649.06.\n",
    "-  Futures ranges from 21.98-175.18 USD with a mean of 91.1."
   ]
  },
  {
   "cell_type": "code",
   "execution_count": 80,
   "metadata": {},
   "outputs": [
    {
     "data": {
      "text/plain": [
       "Text(0.5,1,'Exploring Coffee Rust, Production and Futures')"
      ]
     },
     "execution_count": 80,
     "metadata": {},
     "output_type": "execute_result"
    },
    {
     "data": {
      "image/png": "[encoded data removed]",
      "text/plain": [
       "<Figure size 432x288 with 1 Axes>"
      ]
     },
     "metadata": {},
     "output_type": "display_data"
    }
   ],
   "source": [
    "#Let's look at a plot of all columns with labels\n",
    "import numpy as np\n",
    "import matplotlib.pyplot as plt\n",
    "df2.plot();\n",
    "plt.title(\"Exploring Coffee Rust, Production and Futures\")"
   ]
  },
  {
   "cell_type": "markdown",
   "metadata": {},
   "source": [
    "This first basic plot is not very helpful in understanding if there are relationships between variables."
   ]
  },
  {
   "cell_type": "code",
   "execution_count": 81,
   "metadata": {},
   "outputs": [
    {
     "data": {
      "text/plain": [
       "Text(0.5,1,'Log - Coffee Rust, Production and Futures')"
      ]
     },
     "execution_count": 81,
     "metadata": {},
     "output_type": "execute_result"
    },
    {
     "data": {
      "image/png": "[encoded data removed]",
      "text/plain": [
       "<Figure size 432x288 with 1 Axes>"
      ]
     },
     "metadata": {},
     "output_type": "display_data"
    }
   ],
   "source": [
    "#Since the regular scale plot isn't very helpful, let's look at the variable interaction on a log scale.\n",
    "df2.plot();\n",
    "plt.yscale('log')\n",
    "plt.xscale('log')\n",
    "plt.title(\"Log - Coffee Rust, Production and Futures\", fontsize=16)"
   ]
  },
  {
   "cell_type": "markdown",
   "metadata": {},
   "source": [
    "### This is still not the best visualization to see what's happening between the variables.\n",
    "\n",
    "#### Let's do a plot of Futures over time."
   ]
  },
  {
   "cell_type": "code",
   "execution_count": 79,
   "metadata": {},
   "outputs": [
    {
     "data": {
      "text/plain": [
       "<matplotlib.axes._subplots.AxesSubplot at 0xf2fe950>"
      ]
     },
     "execution_count": 79,
     "metadata": {},
     "output_type": "execute_result"
    },
    {
     "data": {
      "image/png": "[encoded data removed]",
      "text/plain": [
       "<Figure size 432x288 with 1 Axes>"
      ]
     },
     "metadata": {},
     "output_type": "display_data"
    }
   ],
   "source": [
    "df2.plot(x='Date',y='Futures',color='black')"
   ]
  },
  {
   "cell_type": "code",
   "execution_count": 92,
   "metadata": {},
   "outputs": [
    {
     "data": {
      "text/plain": [
       "<matplotlib.legend.Legend at 0xf58a890>"
      ]
     },
     "execution_count": 92,
     "metadata": {},
     "output_type": "execute_result"
    },
    {
     "data": {
      "image/png": "[encoded data removed]",
      "text/plain": [
       "<Figure size 432x288 with 1 Axes>"
      ]
     },
     "metadata": {},
     "output_type": "display_data"
    }
   ],
   "source": [
    "#Now, let's look at the relationship between Production and Futures.\n",
    "\n",
    "df2['Production'].plot(color='black')\n",
    "df2['Futures'].plot(color=\"#ac7339\")\n",
    "\n",
    "plt.xlabel(\"Futures Prices in US$\",fontsize=14)\n",
    "plt.ylabel(\"Production in 1000-60 kg bags\",fontsize=14)\n",
    "plt.title(\"Coffee Production versus Futures\",fontsize=16)\n",
    "plt.legend()"
   ]
  },
  {
   "cell_type": "markdown",
   "metadata": {},
   "source": [
    "- From this plot, we see that there is a much greater range in the 'Production' variable than the 'Futures' variable.\n",
    "- Production values vary in a much bigger range than the futures values.\n",
    "-  From this visualization, it's hard to see any possible relationship between Production and Futures.\n",
    "\n",
    "#### Next, let's look to see if there's a relationship between Rust and Production."
   ]
  },
  {
   "cell_type": "code",
   "execution_count": 41,
   "metadata": {},
   "outputs": [
    {
     "data": {
      "text/plain": [
       "<matplotlib.legend.Legend at 0xa91a2d0>"
      ]
     },
     "execution_count": 41,
     "metadata": {},
     "output_type": "execute_result"
    },
    {
     "data": {
      "image/png": "[encoded data removed]",
      "text/plain": [
       "<Figure size 432x288 with 1 Axes>"
      ]
     },
     "metadata": {},
     "output_type": "display_data"
    }
   ],
   "source": [
    "df2['Rust'].plot(color='#663300')\n",
    "df2['Production'].plot(color='black')\n",
    "plt.xlabel(\"Percent Rust on Plant\",fontsize=16)\n",
    "plt.ylabel(\"Production in 1000-60 kg bags\",fontsize=16)\n",
    "plt.title(\"Coffee Rust versus Production\",fontsize=18)\n",
    "plt.legend()"
   ]
  },
  {
   "cell_type": "markdown",
   "metadata": {},
   "source": [
    "#### From this plot, it's hard to tell if there's a correlation between rust and production variables.\n",
    "\n",
    "-  Finally,  let's take a look at the relationship between Rust and Futures to see if we can find any insights from the visualization. The x-axis maximum value is 50 to reflect maximum rust %."
   ]
  },
  {
   "cell_type": "code",
   "execution_count": 42,
   "metadata": {},
   "outputs": [
    {
     "data": {
      "text/plain": [
       "<matplotlib.legend.Legend at 0x913b870>"
      ]
     },
     "execution_count": 42,
     "metadata": {},
     "output_type": "execute_result"
    },
    {
     "data": {
      "image/png": "[encoded data removed]",
      "text/plain": [
       "<Figure size 432x288 with 1 Axes>"
      ]
     },
     "metadata": {},
     "output_type": "display_data"
    }
   ],
   "source": [
    "df2['Rust'].plot(color='black')\n",
    "df2['Futures'].plot(color='#ac7339')\n",
    "plt.xlim(0,50)\n",
    "plt.xlabel(\"Percent Rust on Plant\", fontsize=16)\n",
    "plt.ylabel(\"Futures in USD\", fontsize=16)\n",
    "plt.title(\"Coffee Rust versus Futures\", fontsize=18)\n",
    "plt.legend()"
   ]
  },
  {
   "cell_type": "markdown",
   "metadata": {},
   "source": [
    "-  It's still hard to tell if there are any definitive relationships from this visualization.\n",
    "\n",
    "#### Let's look at a histogram of Futures to see if this helps answer our relationship questions."
   ]
  },
  {
   "cell_type": "code",
   "execution_count": 44,
   "metadata": {},
   "outputs": [
    {
     "name": "stderr",
     "output_type": "stream",
     "text": [
      "C:\\Users\\lkahn\\AppData\\Local\\Continuum\\anaconda3\\lib\\site-packages\\matplotlib\\axes\\_axes.py:6462: UserWarning: The 'normed' kwarg is deprecated, and has been replaced by the 'density' kwarg.\n",
      "  warnings.warn(\"The 'normed' kwarg is deprecated, and has been \"\n"
     ]
    },
    {
     "data": {
      "text/plain": [
       "Text(0.5,1,'Coffee Futures Histogram')"
      ]
     },
     "execution_count": 44,
     "metadata": {},
     "output_type": "execute_result"
    },
    {
     "data": {
      "image/png": "[encoded data removed]",
      "text/plain": [
       "<Figure size 432x288 with 1 Axes>"
      ]
     },
     "metadata": {},
     "output_type": "display_data"
    }
   ],
   "source": [
    "df2['Futures'].hist(bins=30, normed=True, color='#ac7339')\n",
    "plt.xlabel(\"Coffee Futures in USD\",fontsize=16)\n",
    "plt.ylabel(\"Percent Distribution\",fontsize=16)\n",
    "plt.title(\"Coffee Futures Histogram\",fontsize=18)"
   ]
  },
  {
   "cell_type": "markdown",
   "metadata": {},
   "source": [
    "-  A bin size of 30 in the histogram seems to show the variations and groupings of the data the best.\n",
    "-  Coffee futures range from 20-180 USD. \n",
    "-  The data is bimodal with two peaks around 35 and 120 USD.\n",
    "-  The distribution of the data doesn't have a large skewedness."
   ]
  },
  {
   "cell_type": "code",
   "execution_count": 46,
   "metadata": {},
   "outputs": [
    {
     "name": "stderr",
     "output_type": "stream",
     "text": [
      "C:\\Users\\lkahn\\AppData\\Local\\Continuum\\anaconda3\\lib\\site-packages\\matplotlib\\axes\\_axes.py:6462: UserWarning: The 'normed' kwarg is deprecated, and has been replaced by the 'density' kwarg.\n",
      "  warnings.warn(\"The 'normed' kwarg is deprecated, and has been \"\n"
     ]
    },
    {
     "data": {
      "text/plain": [
       "Text(0.5,1,'Coffee Rust Histogram')"
      ]
     },
     "execution_count": 46,
     "metadata": {},
     "output_type": "execute_result"
    },
    {
     "data": {
      "image/png": "[encoded data removed]",
      "text/plain": [
       "<Figure size 432x288 with 1 Axes>"
      ]
     },
     "metadata": {},
     "output_type": "display_data"
    }
   ],
   "source": [
    "df2['Rust'].hist(bins=20, normed=True, color='#ac7339')\n",
    "plt.xlabel(\"Percent Coffee Rust on Leaves\",fontsize=16)\n",
    "plt.ylabel(\"Percent Distribution\",fontsize=16)\n",
    "plt.title(\"Coffee Rust Histogram\",fontsize=18)"
   ]
  },
  {
   "cell_type": "markdown",
   "metadata": {},
   "source": [
    "-  After experimentation, a bin size of 20 was chosen to show variances in data.\n",
    "-  The dataset is skewed left.\n",
    "-  The majority of the Rust occurrs between 0-10%\n",
    "\n",
    "#### Let's plot a histogram of Production"
   ]
  },
  {
   "cell_type": "code",
   "execution_count": 50,
   "metadata": {},
   "outputs": [
    {
     "name": "stderr",
     "output_type": "stream",
     "text": [
      "C:\\Users\\lkahn\\AppData\\Local\\Continuum\\anaconda3\\lib\\site-packages\\matplotlib\\axes\\_axes.py:6462: UserWarning: The 'normed' kwarg is deprecated, and has been replaced by the 'density' kwarg.\n",
      "  warnings.warn(\"The 'normed' kwarg is deprecated, and has been \"\n"
     ]
    },
    {
     "data": {
      "text/plain": [
       "Text(0.5,1,'Coffee Production Histogram')"
      ]
     },
     "execution_count": 50,
     "metadata": {},
     "output_type": "execute_result"
    },
    {
     "data": {
      "image/png": "[encoded data removed]",
      "text/plain": [
       "<Figure size 432x288 with 1 Axes>"
      ]
     },
     "metadata": {},
     "output_type": "display_data"
    }
   ],
   "source": [
    "df2['Production'].hist(bins=20, normed=True, color='#ac7339')\n",
    "plt.xlabel(\"Production in 1000-60 kg bags\", fontsize=16)\n",
    "plt.ylabel(\"Percent Distribution\",fontsize=16)\n",
    "plt.title(\"Coffee Production Histogram\",fontsize=18)"
   ]
  },
  {
   "cell_type": "markdown",
   "metadata": {},
   "source": [
    "-  After experimentation, a bin size of 20 was chosen to best show any possible patterns.\n",
    "-  This visualization just confirms we have discrete production amounts ranging from 0-4000 1000-60 kg bags."
   ]
  },
  {
   "cell_type": "markdown",
   "metadata": {},
   "source": [
    "#### Since none of the visualizations have been able to answer our initial problem if there is a relationship between the variables, let's try a heatmap visualization.\n"
   ]
  },
  {
   "cell_type": "code",
   "execution_count": 53,
   "metadata": {},
   "outputs": [
    {
     "data": {
      "image/png": "[encoded data removed]",
      "text/plain": [
       "<Figure size 432x288 with 2 Axes>"
      ]
     },
     "metadata": {},
     "output_type": "display_data"
    }
   ],
   "source": [
    "import seaborn as sns\n",
    "ax = plt.axes()\n",
    "corr = df2.corr()\n",
    "#The default colors were changed to 'BrBG_r' to match better with the \n",
    "#browns in the other visualizations.\n",
    "sns.heatmap(corr, cmap='BrBG_r',xticklabels=corr.columns.values, yticklabels=corr.columns.values)\n",
    "#Label title\n",
    "ax.set_title('Correlation Matrix of Variables',fontsize=18)\n",
    "plt.show()"
   ]
  },
  {
   "cell_type": "markdown",
   "metadata": {},
   "source": [
    "__Heat Map Conclusions__:\n",
    "\n",
    "-  Rain, temperature, production, rust and futures are quantitatively related to each other.\n",
    "-  Rain and temperature are not correlated to each other (correlation = 0).\n",
    "-  Temperature is negatively correlated to rust (-0.25) so if temperature increases, rust decreases.\n",
    "-  Rain is negatively correlated (about -0.5) to production so if rain increases, production decreases.\n",
    "-  Rain is not correlated to rust (correlation =0).\n",
    "-  Production is positively correlated (0.3) to futures so if production increases, futures increase.\n",
    "-  Rust is positively correlated to production (0.25) so if rust increases, production increases.\n",
    "-  Rust is negatively correlated to futures (-0.1) so if rust decreases, futures increase."
   ]
  },
  {
   "cell_type": "markdown",
   "metadata": {},
   "source": [
    "#### Let's see if we can see these relationships in another way using linear regression.\n",
    "\n",
    "*Rust and Production"
   ]
  },
  {
   "cell_type": "code",
   "execution_count": 55,
   "metadata": {},
   "outputs": [
    {
     "data": {
      "image/png": "[encoded data removed]",
      "text/plain": [
       "<Figure size 432x288 with 1 Axes>"
      ]
     },
     "metadata": {},
     "output_type": "display_data"
    }
   ],
   "source": [
    "ax = plt.axes()\n",
    "ax.set_title('Linear Regression of Percent Rust and Production',fontsize=16)\n",
    "ax.set_xlabel('Percent Rust on Plant',fontsize=16)\n",
    "ax.set_ylabel('Production in 1000-60kg bags',fontsize=16)\n",
    "sns.regplot(x=df2['Rust'],color='#ac7339', y=df2['Production'],scatter_kws={\"color\":\"black\",\"alpha\":0.3,\"lw\":4} )\n",
    "plt.show()"
   ]
  },
  {
   "cell_type": "markdown",
   "metadata": {},
   "source": [
    "*Production and Futures"
   ]
  },
  {
   "cell_type": "code",
   "execution_count": 56,
   "metadata": {},
   "outputs": [
    {
     "data": {
      "image/png": "[encoded data removed]",
      "text/plain": [
       "<Figure size 432x288 with 1 Axes>"
      ]
     },
     "metadata": {},
     "output_type": "display_data"
    }
   ],
   "source": [
    "ax = plt.axes()\n",
    "ax.set_title('Linear Regression of Production versus Futures',fontsize=16)\n",
    "ax.set_xlabel('Production in 1000-60kg bags',fontsize=16)\n",
    "ax.set_ylabel('Futures in USD', fontsize=16)\n",
    "sns.regplot(x=df2['Production'], color='black', y=df2['Futures'],line_kws={\"color\":\"#ac7339\",\"alpha\":0.3,\"lw\":5} )\n",
    "plt.show()"
   ]
  },
  {
   "cell_type": "markdown",
   "metadata": {},
   "source": [
    "*Rust and Futures"
   ]
  },
  {
   "cell_type": "code",
   "execution_count": 57,
   "metadata": {},
   "outputs": [
    {
     "data": {
      "image/png": "[encoded data removed]",
      "text/plain": [
       "<Figure size 432x288 with 1 Axes>"
      ]
     },
     "metadata": {},
     "output_type": "display_data"
    }
   ],
   "source": [
    "ax = plt.axes()\n",
    "ax.set_title('Linear Regression of Percent Rust vs. Futures',fontsize=16)\n",
    "ax.set_xlabel('Percent Rust on Plant', fontsize=16)\n",
    "ax.set_ylabel('Futures in USD', fontsize=16)\n",
    "sns.regplot(x=df2['Rust'], color='black', y=df2['Futures'],line_kws={\"color\":\"#ac7339\",\"alpha\":0.3,\"lw\":5} )\n",
    "plt.show()"
   ]
  },
  {
   "cell_type": "markdown",
   "metadata": {},
   "source": [
    "#### Next, we'll use try to quantify these relationships in another way.\n",
    "\n",
    "- Let's use a pivot table to group the data by Rust percent."
   ]
  },
  {
   "cell_type": "code",
   "execution_count": 58,
   "metadata": {},
   "outputs": [
    {
     "data": {
      "text/html": [
       "<div>\n",
       "<style scoped>\n",
       "    .dataframe tbody tr th:only-of-type {\n",
       "        vertical-align: middle;\n",
       "    }\n",
       "\n",
       "    .dataframe tbody tr th {\n",
       "        vertical-align: top;\n",
       "    }\n",
       "\n",
       "    .dataframe thead th {\n",
       "        text-align: right;\n",
       "    }\n",
       "</style>\n",
       "<table border=\"1\" class=\"dataframe\">\n",
       "  <thead>\n",
       "    <tr style=\"text-align: right;\">\n",
       "      <th></th>\n",
       "      <th>Futures</th>\n",
       "      <th>Production</th>\n",
       "      <th>Rainfall</th>\n",
       "      <th>Temperature</th>\n",
       "    </tr>\n",
       "    <tr>\n",
       "      <th>Rust</th>\n",
       "      <th></th>\n",
       "      <th></th>\n",
       "      <th></th>\n",
       "      <th></th>\n",
       "    </tr>\n",
       "  </thead>\n",
       "  <tbody>\n",
       "    <tr>\n",
       "      <th>0.000000</th>\n",
       "      <td>95.740000</td>\n",
       "      <td>3289.170000</td>\n",
       "      <td>117.400000</td>\n",
       "      <td>26.330000</td>\n",
       "    </tr>\n",
       "    <tr>\n",
       "      <th>0.050000</th>\n",
       "      <td>121.582667</td>\n",
       "      <td>3832.670000</td>\n",
       "      <td>80.273333</td>\n",
       "      <td>26.131333</td>\n",
       "    </tr>\n",
       "    <tr>\n",
       "      <th>0.100000</th>\n",
       "      <td>123.160000</td>\n",
       "      <td>3832.670000</td>\n",
       "      <td>29.900000</td>\n",
       "      <td>25.590000</td>\n",
       "    </tr>\n",
       "    <tr>\n",
       "      <th>0.330000</th>\n",
       "      <td>31.620000</td>\n",
       "      <td>97.920000</td>\n",
       "      <td>230.770000</td>\n",
       "      <td>25.890000</td>\n",
       "    </tr>\n",
       "    <tr>\n",
       "      <th>0.370000</th>\n",
       "      <td>35.365000</td>\n",
       "      <td>97.920000</td>\n",
       "      <td>302.420000</td>\n",
       "      <td>25.700000</td>\n",
       "    </tr>\n",
       "    <tr>\n",
       "      <th>0.500000</th>\n",
       "      <td>84.378750</td>\n",
       "      <td>2783.330000</td>\n",
       "      <td>129.385000</td>\n",
       "      <td>26.795000</td>\n",
       "    </tr>\n",
       "    <tr>\n",
       "      <th>1.610000</th>\n",
       "      <td>120.118000</td>\n",
       "      <td>1010.330000</td>\n",
       "      <td>272.870000</td>\n",
       "      <td>24.626000</td>\n",
       "    </tr>\n",
       "    <tr>\n",
       "      <th>1.670000</th>\n",
       "      <td>32.495000</td>\n",
       "      <td>97.920000</td>\n",
       "      <td>213.670000</td>\n",
       "      <td>25.140000</td>\n",
       "    </tr>\n",
       "    <tr>\n",
       "      <th>2.830000</th>\n",
       "      <td>38.200000</td>\n",
       "      <td>91.000000</td>\n",
       "      <td>274.940000</td>\n",
       "      <td>24.570000</td>\n",
       "    </tr>\n",
       "    <tr>\n",
       "      <th>3.000000</th>\n",
       "      <td>43.800000</td>\n",
       "      <td>80.330000</td>\n",
       "      <td>335.120000</td>\n",
       "      <td>25.770000</td>\n",
       "    </tr>\n",
       "    <tr>\n",
       "      <th>3.100000</th>\n",
       "      <td>159.437500</td>\n",
       "      <td>1111.080000</td>\n",
       "      <td>150.840000</td>\n",
       "      <td>25.240000</td>\n",
       "    </tr>\n",
       "    <tr>\n",
       "      <th>3.170000</th>\n",
       "      <td>40.620000</td>\n",
       "      <td>91.000000</td>\n",
       "      <td>259.020000</td>\n",
       "      <td>26.250000</td>\n",
       "    </tr>\n",
       "    <tr>\n",
       "      <th>3.330000</th>\n",
       "      <td>46.355000</td>\n",
       "      <td>91.000000</td>\n",
       "      <td>167.530000</td>\n",
       "      <td>26.190000</td>\n",
       "    </tr>\n",
       "    <tr>\n",
       "      <th>3.450000</th>\n",
       "      <td>152.510000</td>\n",
       "      <td>1111.080000</td>\n",
       "      <td>58.730000</td>\n",
       "      <td>25.240000</td>\n",
       "    </tr>\n",
       "    <tr>\n",
       "      <th>3.500000</th>\n",
       "      <td>43.650000</td>\n",
       "      <td>80.330000</td>\n",
       "      <td>258.390000</td>\n",
       "      <td>24.880000</td>\n",
       "    </tr>\n",
       "    <tr>\n",
       "      <th>3.790000</th>\n",
       "      <td>102.730000</td>\n",
       "      <td>1010.330000</td>\n",
       "      <td>205.030000</td>\n",
       "      <td>24.740000</td>\n",
       "    </tr>\n",
       "    <tr>\n",
       "      <th>3.800000</th>\n",
       "      <td>149.299167</td>\n",
       "      <td>1010.330000</td>\n",
       "      <td>204.492500</td>\n",
       "      <td>24.650833</td>\n",
       "    </tr>\n",
       "    <tr>\n",
       "      <th>3.833333</th>\n",
       "      <td>102.033333</td>\n",
       "      <td>3289.170000</td>\n",
       "      <td>130.900000</td>\n",
       "      <td>25.606667</td>\n",
       "    </tr>\n",
       "    <tr>\n",
       "      <th>4.055000</th>\n",
       "      <td>98.540000</td>\n",
       "      <td>1010.330000</td>\n",
       "      <td>302.110000</td>\n",
       "      <td>24.730000</td>\n",
       "    </tr>\n",
       "    <tr>\n",
       "      <th>4.320000</th>\n",
       "      <td>107.332000</td>\n",
       "      <td>1010.330000</td>\n",
       "      <td>221.110000</td>\n",
       "      <td>24.750000</td>\n",
       "    </tr>\n",
       "    <tr>\n",
       "      <th>4.376000</th>\n",
       "      <td>158.100000</td>\n",
       "      <td>1010.330000</td>\n",
       "      <td>237.890000</td>\n",
       "      <td>24.560000</td>\n",
       "    </tr>\n",
       "    <tr>\n",
       "      <th>4.450000</th>\n",
       "      <td>104.410000</td>\n",
       "      <td>1010.330000</td>\n",
       "      <td>302.110000</td>\n",
       "      <td>24.730000</td>\n",
       "    </tr>\n",
       "    <tr>\n",
       "      <th>5.000000</th>\n",
       "      <td>81.637500</td>\n",
       "      <td>2783.330000</td>\n",
       "      <td>245.870000</td>\n",
       "      <td>25.950000</td>\n",
       "    </tr>\n",
       "    <tr>\n",
       "      <th>5.014000</th>\n",
       "      <td>159.360000</td>\n",
       "      <td>1010.330000</td>\n",
       "      <td>178.070000</td>\n",
       "      <td>24.520000</td>\n",
       "    </tr>\n",
       "    <tr>\n",
       "      <th>5.110000</th>\n",
       "      <td>111.457500</td>\n",
       "      <td>1010.330000</td>\n",
       "      <td>144.850000</td>\n",
       "      <td>25.050000</td>\n",
       "    </tr>\n",
       "    <tr>\n",
       "      <th>5.166667</th>\n",
       "      <td>101.850000</td>\n",
       "      <td>3289.170000</td>\n",
       "      <td>141.100000</td>\n",
       "      <td>26.600000</td>\n",
       "    </tr>\n",
       "    <tr>\n",
       "      <th>5.500000</th>\n",
       "      <td>44.100000</td>\n",
       "      <td>91.000000</td>\n",
       "      <td>192.280000</td>\n",
       "      <td>25.820000</td>\n",
       "    </tr>\n",
       "    <tr>\n",
       "      <th>5.550000</th>\n",
       "      <td>132.637500</td>\n",
       "      <td>1010.330000</td>\n",
       "      <td>90.530000</td>\n",
       "      <td>24.650000</td>\n",
       "    </tr>\n",
       "    <tr>\n",
       "      <th>5.686364</th>\n",
       "      <td>157.810000</td>\n",
       "      <td>1010.330000</td>\n",
       "      <td>237.890000</td>\n",
       "      <td>24.560000</td>\n",
       "    </tr>\n",
       "    <tr>\n",
       "      <th>5.952500</th>\n",
       "      <td>147.910000</td>\n",
       "      <td>1111.080000</td>\n",
       "      <td>58.730000</td>\n",
       "      <td>25.240000</td>\n",
       "    </tr>\n",
       "    <tr>\n",
       "      <th>...</th>\n",
       "      <td>...</td>\n",
       "      <td>...</td>\n",
       "      <td>...</td>\n",
       "      <td>...</td>\n",
       "    </tr>\n",
       "    <tr>\n",
       "      <th>11.500000</th>\n",
       "      <td>100.854000</td>\n",
       "      <td>2783.330000</td>\n",
       "      <td>212.480000</td>\n",
       "      <td>26.540000</td>\n",
       "    </tr>\n",
       "    <tr>\n",
       "      <th>12.410000</th>\n",
       "      <td>141.580000</td>\n",
       "      <td>1018.725833</td>\n",
       "      <td>184.797500</td>\n",
       "      <td>24.665000</td>\n",
       "    </tr>\n",
       "    <tr>\n",
       "      <th>12.670000</th>\n",
       "      <td>42.470000</td>\n",
       "      <td>91.000000</td>\n",
       "      <td>270.700000</td>\n",
       "      <td>25.670000</td>\n",
       "    </tr>\n",
       "    <tr>\n",
       "      <th>13.170000</th>\n",
       "      <td>42.930000</td>\n",
       "      <td>80.330000</td>\n",
       "      <td>106.100000</td>\n",
       "      <td>24.430000</td>\n",
       "    </tr>\n",
       "    <tr>\n",
       "      <th>14.000000</th>\n",
       "      <td>51.050000</td>\n",
       "      <td>1161.670000</td>\n",
       "      <td>170.060000</td>\n",
       "      <td>25.410000</td>\n",
       "    </tr>\n",
       "    <tr>\n",
       "      <th>14.663791</th>\n",
       "      <td>144.630000</td>\n",
       "      <td>3289.170000</td>\n",
       "      <td>28.900000</td>\n",
       "      <td>23.470000</td>\n",
       "    </tr>\n",
       "    <tr>\n",
       "      <th>14.670000</th>\n",
       "      <td>41.280000</td>\n",
       "      <td>91.000000</td>\n",
       "      <td>200.910000</td>\n",
       "      <td>24.290000</td>\n",
       "    </tr>\n",
       "    <tr>\n",
       "      <th>15.500000</th>\n",
       "      <td>100.235000</td>\n",
       "      <td>2783.330000</td>\n",
       "      <td>226.570000</td>\n",
       "      <td>26.280000</td>\n",
       "    </tr>\n",
       "    <tr>\n",
       "      <th>15.670000</th>\n",
       "      <td>25.935000</td>\n",
       "      <td>97.920000</td>\n",
       "      <td>309.500000</td>\n",
       "      <td>25.350000</td>\n",
       "    </tr>\n",
       "    <tr>\n",
       "      <th>16.000000</th>\n",
       "      <td>40.825000</td>\n",
       "      <td>91.000000</td>\n",
       "      <td>315.230000</td>\n",
       "      <td>24.680000</td>\n",
       "    </tr>\n",
       "    <tr>\n",
       "      <th>16.170000</th>\n",
       "      <td>39.915000</td>\n",
       "      <td>80.330000</td>\n",
       "      <td>292.650000</td>\n",
       "      <td>24.320000</td>\n",
       "    </tr>\n",
       "    <tr>\n",
       "      <th>18.670000</th>\n",
       "      <td>39.860000</td>\n",
       "      <td>80.330000</td>\n",
       "      <td>282.430000</td>\n",
       "      <td>25.520000</td>\n",
       "    </tr>\n",
       "    <tr>\n",
       "      <th>19.330000</th>\n",
       "      <td>42.120000</td>\n",
       "      <td>91.000000</td>\n",
       "      <td>304.670000</td>\n",
       "      <td>25.630000</td>\n",
       "    </tr>\n",
       "    <tr>\n",
       "      <th>21.000000</th>\n",
       "      <td>43.680000</td>\n",
       "      <td>80.330000</td>\n",
       "      <td>97.300000</td>\n",
       "      <td>24.620000</td>\n",
       "    </tr>\n",
       "    <tr>\n",
       "      <th>21.666667</th>\n",
       "      <td>31.238654</td>\n",
       "      <td>1073.170000</td>\n",
       "      <td>229.286154</td>\n",
       "      <td>24.579231</td>\n",
       "    </tr>\n",
       "    <tr>\n",
       "      <th>21.994727</th>\n",
       "      <td>123.588750</td>\n",
       "      <td>3289.170000</td>\n",
       "      <td>171.712500</td>\n",
       "      <td>25.926250</td>\n",
       "    </tr>\n",
       "    <tr>\n",
       "      <th>22.021818</th>\n",
       "      <td>136.320000</td>\n",
       "      <td>3289.170000</td>\n",
       "      <td>124.156250</td>\n",
       "      <td>25.573125</td>\n",
       "    </tr>\n",
       "    <tr>\n",
       "      <th>22.058364</th>\n",
       "      <td>111.855000</td>\n",
       "      <td>3289.170000</td>\n",
       "      <td>134.850000</td>\n",
       "      <td>24.325000</td>\n",
       "    </tr>\n",
       "    <tr>\n",
       "      <th>22.066364</th>\n",
       "      <td>127.631429</td>\n",
       "      <td>3289.170000</td>\n",
       "      <td>256.371429</td>\n",
       "      <td>25.678571</td>\n",
       "    </tr>\n",
       "    <tr>\n",
       "      <th>22.089818</th>\n",
       "      <td>113.770000</td>\n",
       "      <td>3289.170000</td>\n",
       "      <td>115.400000</td>\n",
       "      <td>27.160000</td>\n",
       "    </tr>\n",
       "    <tr>\n",
       "      <th>22.670000</th>\n",
       "      <td>42.105000</td>\n",
       "      <td>80.330000</td>\n",
       "      <td>194.160000</td>\n",
       "      <td>24.480000</td>\n",
       "    </tr>\n",
       "    <tr>\n",
       "      <th>23.330000</th>\n",
       "      <td>31.410000</td>\n",
       "      <td>89.125000</td>\n",
       "      <td>271.980000</td>\n",
       "      <td>25.520000</td>\n",
       "    </tr>\n",
       "    <tr>\n",
       "      <th>23.500000</th>\n",
       "      <td>99.870000</td>\n",
       "      <td>2783.330000</td>\n",
       "      <td>256.830000</td>\n",
       "      <td>26.100000</td>\n",
       "    </tr>\n",
       "    <tr>\n",
       "      <th>25.050000</th>\n",
       "      <td>137.665000</td>\n",
       "      <td>3832.670000</td>\n",
       "      <td>51.250000</td>\n",
       "      <td>26.215000</td>\n",
       "    </tr>\n",
       "    <tr>\n",
       "      <th>25.670000</th>\n",
       "      <td>42.895000</td>\n",
       "      <td>80.330000</td>\n",
       "      <td>169.870000</td>\n",
       "      <td>24.810000</td>\n",
       "    </tr>\n",
       "    <tr>\n",
       "      <th>32.500000</th>\n",
       "      <td>104.112500</td>\n",
       "      <td>2783.330000</td>\n",
       "      <td>216.120000</td>\n",
       "      <td>25.400000</td>\n",
       "    </tr>\n",
       "    <tr>\n",
       "      <th>40.500000</th>\n",
       "      <td>108.656000</td>\n",
       "      <td>2783.330000</td>\n",
       "      <td>45.340000</td>\n",
       "      <td>25.240000</td>\n",
       "    </tr>\n",
       "    <tr>\n",
       "      <th>42.000000</th>\n",
       "      <td>104.374000</td>\n",
       "      <td>2783.330000</td>\n",
       "      <td>158.620000</td>\n",
       "      <td>24.050000</td>\n",
       "    </tr>\n",
       "    <tr>\n",
       "      <th>48.500000</th>\n",
       "      <td>119.522500</td>\n",
       "      <td>2783.330000</td>\n",
       "      <td>60.280000</td>\n",
       "      <td>24.390000</td>\n",
       "    </tr>\n",
       "    <tr>\n",
       "      <th>50.000000</th>\n",
       "      <td>121.732500</td>\n",
       "      <td>2783.330000</td>\n",
       "      <td>80.450000</td>\n",
       "      <td>23.840000</td>\n",
       "    </tr>\n",
       "  </tbody>\n",
       "</table>\n",
       "<p>81 rows × 4 columns</p>\n",
       "</div>"
      ],
      "text/plain": [
       "              Futures   Production    Rainfall  Temperature\n",
       "Rust                                                       \n",
       "0.000000    95.740000  3289.170000  117.400000    26.330000\n",
       "0.050000   121.582667  3832.670000   80.273333    26.131333\n",
       "0.100000   123.160000  3832.670000   29.900000    25.590000\n",
       "0.330000    31.620000    97.920000  230.770000    25.890000\n",
       "0.370000    35.365000    97.920000  302.420000    25.700000\n",
       "0.500000    84.378750  2783.330000  129.385000    26.795000\n",
       "1.610000   120.118000  1010.330000  272.870000    24.626000\n",
       "1.670000    32.495000    97.920000  213.670000    25.140000\n",
       "2.830000    38.200000    91.000000  274.940000    24.570000\n",
       "3.000000    43.800000    80.330000  335.120000    25.770000\n",
       "3.100000   159.437500  1111.080000  150.840000    25.240000\n",
       "3.170000    40.620000    91.000000  259.020000    26.250000\n",
       "3.330000    46.355000    91.000000  167.530000    26.190000\n",
       "3.450000   152.510000  1111.080000   58.730000    25.240000\n",
       "3.500000    43.650000    80.330000  258.390000    24.880000\n",
       "3.790000   102.730000  1010.330000  205.030000    24.740000\n",
       "3.800000   149.299167  1010.330000  204.492500    24.650833\n",
       "3.833333   102.033333  3289.170000  130.900000    25.606667\n",
       "4.055000    98.540000  1010.330000  302.110000    24.730000\n",
       "4.320000   107.332000  1010.330000  221.110000    24.750000\n",
       "4.376000   158.100000  1010.330000  237.890000    24.560000\n",
       "4.450000   104.410000  1010.330000  302.110000    24.730000\n",
       "5.000000    81.637500  2783.330000  245.870000    25.950000\n",
       "5.014000   159.360000  1010.330000  178.070000    24.520000\n",
       "5.110000   111.457500  1010.330000  144.850000    25.050000\n",
       "5.166667   101.850000  3289.170000  141.100000    26.600000\n",
       "5.500000    44.100000    91.000000  192.280000    25.820000\n",
       "5.550000   132.637500  1010.330000   90.530000    24.650000\n",
       "5.686364   157.810000  1010.330000  237.890000    24.560000\n",
       "5.952500   147.910000  1111.080000   58.730000    25.240000\n",
       "...               ...          ...         ...          ...\n",
       "11.500000  100.854000  2783.330000  212.480000    26.540000\n",
       "12.410000  141.580000  1018.725833  184.797500    24.665000\n",
       "12.670000   42.470000    91.000000  270.700000    25.670000\n",
       "13.170000   42.930000    80.330000  106.100000    24.430000\n",
       "14.000000   51.050000  1161.670000  170.060000    25.410000\n",
       "14.663791  144.630000  3289.170000   28.900000    23.470000\n",
       "14.670000   41.280000    91.000000  200.910000    24.290000\n",
       "15.500000  100.235000  2783.330000  226.570000    26.280000\n",
       "15.670000   25.935000    97.920000  309.500000    25.350000\n",
       "16.000000   40.825000    91.000000  315.230000    24.680000\n",
       "16.170000   39.915000    80.330000  292.650000    24.320000\n",
       "18.670000   39.860000    80.330000  282.430000    25.520000\n",
       "19.330000   42.120000    91.000000  304.670000    25.630000\n",
       "21.000000   43.680000    80.330000   97.300000    24.620000\n",
       "21.666667   31.238654  1073.170000  229.286154    24.579231\n",
       "21.994727  123.588750  3289.170000  171.712500    25.926250\n",
       "22.021818  136.320000  3289.170000  124.156250    25.573125\n",
       "22.058364  111.855000  3289.170000  134.850000    24.325000\n",
       "22.066364  127.631429  3289.170000  256.371429    25.678571\n",
       "22.089818  113.770000  3289.170000  115.400000    27.160000\n",
       "22.670000   42.105000    80.330000  194.160000    24.480000\n",
       "23.330000   31.410000    89.125000  271.980000    25.520000\n",
       "23.500000   99.870000  2783.330000  256.830000    26.100000\n",
       "25.050000  137.665000  3832.670000   51.250000    26.215000\n",
       "25.670000   42.895000    80.330000  169.870000    24.810000\n",
       "32.500000  104.112500  2783.330000  216.120000    25.400000\n",
       "40.500000  108.656000  2783.330000   45.340000    25.240000\n",
       "42.000000  104.374000  2783.330000  158.620000    24.050000\n",
       "48.500000  119.522500  2783.330000   60.280000    24.390000\n",
       "50.000000  121.732500  2783.330000   80.450000    23.840000\n",
       "\n",
       "[81 rows x 4 columns]"
      ]
     },
     "execution_count": 58,
     "metadata": {},
     "output_type": "execute_result"
    }
   ],
   "source": [
    "pivot_df = df2.pivot_table(index=['Rust'])\n",
    "pivot_df"
   ]
  },
  {
   "cell_type": "code",
   "execution_count": 62,
   "metadata": {},
   "outputs": [],
   "source": [
    "#Save df to CSV\n",
    "pivot_df.to_csv('pivot.csv')"
   ]
  },
  {
   "cell_type": "markdown",
   "metadata": {},
   "source": [
    "#### Let's quantify slope and root-mean-squared error (NRMSE) of each variable."
   ]
  },
  {
   "cell_type": "code",
   "execution_count": 71,
   "metadata": {},
   "outputs": [
    {
     "name": "stdout",
     "output_type": "stream",
     "text": [
      "Slope [-7.08883840e-02  1.00213844e+01 -3.80311683e-01 -5.79495147e-03]\n",
      "NRMSE: Futures         0.309562\n",
      "Production      0.011982\n",
      "Rainfall        0.138975\n",
      "Temperature    12.184565\n",
      "dtype: float64\n"
     ]
    }
   ],
   "source": [
    "coefficients, residuals, _, _, _ = np.polyfit(range(len(pivot_df.index)),pivot_df,1,full=True)\n",
    "mse = residuals[0]/(len(pivot_df.index))\n",
    "nrmse = np.sqrt(mse)/(pivot_df.max() - pivot_df.min())\n",
    "\n",
    "#Print results\n",
    "print('Slope ' + str(coefficients[0]))\n",
    "print('NRMSE: ' + str(nrmse))"
   ]
  },
  {
   "cell_type": "markdown",
   "metadata": {},
   "source": [
    "- Futures slope = -0.071 and NRMSE = 0.309\n",
    "- Productions slope = 10.02 and NRMSE = 0.012\n",
    "- Rainfall slope = -0.3803 and NRMSE = 0.139\n",
    "- Temperature slope = -0.006 and NRMSE = 12.184"
   ]
  },
  {
   "cell_type": "code",
   "execution_count": 66,
   "metadata": {},
   "outputs": [
    {
     "data": {
      "text/html": [
       "<div>\n",
       "<style scoped>\n",
       "    .dataframe tbody tr th:only-of-type {\n",
       "        vertical-align: middle;\n",
       "    }\n",
       "\n",
       "    .dataframe tbody tr th {\n",
       "        vertical-align: top;\n",
       "    }\n",
       "\n",
       "    .dataframe thead th {\n",
       "        text-align: right;\n",
       "    }\n",
       "</style>\n",
       "<table border=\"1\" class=\"dataframe\">\n",
       "  <thead>\n",
       "    <tr style=\"text-align: right;\">\n",
       "      <th></th>\n",
       "      <th>Futures</th>\n",
       "    </tr>\n",
       "    <tr>\n",
       "      <th>Rust</th>\n",
       "      <th></th>\n",
       "    </tr>\n",
       "  </thead>\n",
       "  <tbody>\n",
       "    <tr>\n",
       "      <th>0.00</th>\n",
       "      <td>95.740000</td>\n",
       "    </tr>\n",
       "    <tr>\n",
       "      <th>0.05</th>\n",
       "      <td>121.582667</td>\n",
       "    </tr>\n",
       "    <tr>\n",
       "      <th>0.10</th>\n",
       "      <td>123.160000</td>\n",
       "    </tr>\n",
       "    <tr>\n",
       "      <th>0.33</th>\n",
       "      <td>31.620000</td>\n",
       "    </tr>\n",
       "    <tr>\n",
       "      <th>0.37</th>\n",
       "      <td>35.365000</td>\n",
       "    </tr>\n",
       "  </tbody>\n",
       "</table>\n",
       "</div>"
      ],
      "text/plain": [
       "         Futures\n",
       "Rust            \n",
       "0.00   95.740000\n",
       "0.05  121.582667\n",
       "0.10  123.160000\n",
       "0.33   31.620000\n",
       "0.37   35.365000"
      ]
     },
     "execution_count": 66,
     "metadata": {},
     "output_type": "execute_result"
    }
   ],
   "source": [
    "#Now let's manipulate the dataframe to only look at 'Rust' and 'Futures' variables.\n",
    "rust_futures = pivot_df.iloc[:, 0:1]\n",
    "rust_futures.head()"
   ]
  },
  {
   "cell_type": "markdown",
   "metadata": {},
   "source": [
    "#### Use least squares polynomial fit for Rust & Futures variables."
   ]
  },
  {
   "cell_type": "code",
   "execution_count": 69,
   "metadata": {},
   "outputs": [
    {
     "name": "stdout",
     "output_type": "stream",
     "text": [
      "Slope [-0.07088838]\n",
      "NRMSE: Futures    0.309562\n",
      "dtype: float64\n"
     ]
    }
   ],
   "source": [
    "import numpy as np\n",
    "coefficients, residuals, _, _, _ = np.polyfit(range(len(rust_futures.index)),rust_futures,1,full=True)\n",
    "mse = residuals[0]/(len(rust_futures.index))\n",
    "nrmse = np.sqrt(mse)/(rust_futures.max() - rust_futures.min())\n",
    "\n",
    "#Print results\n",
    "print('Slope ' + str(coefficients[0]))\n",
    "print('NRMSE: ' + str(nrmse))"
   ]
  },
  {
   "cell_type": "markdown",
   "metadata": {},
   "source": [
    "- From the heatmap, we estimated Rust and Futures are negatively correlated to each other by -0.1. \n",
    "- The least squares polynomial fit shows us Rust and Futures are negatively correlated to each other by -0.071.\n",
    "\n",
    "- Also, the Root -mean-square error between the estimated and observed futures values is 0.309562.\n"
   ]
  },
  {
   "cell_type": "code",
   "execution_count": null,
   "metadata": {
    "collapsed": true
   },
   "outputs": [],
   "source": []
  }
 ],
 "metadata": {
  "kernelspec": {
   "display_name": "Python 3",
   "language": "python",
   "name": "python3"
  },
  "language_info": {
   "codemirror_mode": {
    "name": "ipython",
    "version": 3
   },
   "file_extension": ".py",
   "mimetype": "text/x-python",
   "name": "python",
   "nbconvert_exporter": "python",
   "pygments_lexer": "ipython3",
   "version": "3.6.5"
  }
 },
 "nbformat": 4,
 "nbformat_minor": 2
}
