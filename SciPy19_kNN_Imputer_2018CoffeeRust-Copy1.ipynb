{
 "cells": [
  {
   "cell_type": "code",
   "execution_count": 8,
   "metadata": {},
   "outputs": [],
   "source": [
    "'''\n",
    "An imputation method based on ranking and nearest neighbor.\n",
    "    \n",
    "Beretta L, Santaniello A. Nearest neighbor imputation algorithms: a critical\n",
    "evaluation. BMC Med Inform Decis Mak. 2016 Jul 25;16 Suppl 3:74.\n",
    "'''\n",
    "#Author: Lorenzo Beretta, lorberimm@hotmail.com\n",
    "\n",
    "#Adapted by L Kahn; 11/20/18\n",
    "\n",
    "#Dependencies Installation\n",
    "#pip install rkNN-imputer, pip install sk-rebate"
   ]
  },
  {
   "cell_type": "code",
   "execution_count": 18,
   "metadata": {},
   "outputs": [
    {
     "name": "stdout",
     "output_type": "stream",
     "text": [
      "None\n",
      "None\n",
      "[['0.2' '0.4' '5' '0.4' '6']\n",
      " ['?' '0.4' '8' '0.5' '8']\n",
      " ['0.1' '0.8' '3' '0.2' '6']\n",
      " ['0.3' '0.2' '?' '0.1' '7']\n",
      " ['0.2' '0.9' '3' '0.2' '4']]\n",
      "\n",
      "[[0.2 0.4 5.  0.4 6. ]\n",
      " [0.1 0.4 8.  0.5 8. ]\n",
      " [0.1 0.8 3.  0.2 6. ]\n",
      " [0.3 0.2 4.  0.1 7. ]\n",
      " [0.2 0.9 3.  0.2 4. ]]\n"
     ]
    }
   ],
   "source": [
    "#How it works using a dummy array\n",
    "#pip install rkNN_imputer, skrebate\n",
    "import numpy as np\n",
    "import pandas as pd\n",
    "from rkNN_imputer.rkNN import rkNN\n",
    "\n",
    "dummy = np.array (([\"0.2\", \"0.4\", \"5\", \"0.4\", \"6\"],\n",
    "                [\"?\", \"0.4\", \"8\", \"0.5\", \"8\"],\n",
    "                [\"0.1\", \"0.8\", \"3\", \"0.2\", \"6\"],\n",
    "                [\"0.3\", \"0.2\", \"?\", \"0.1\", \"7\"],\n",
    "                [\"0.2\", \"0.9\", \"3\", \"0.2\", \"4\"]))\n",
    "\n",
    "imp = rkNN ()\n",
    "imp.fit (dummy)\n",
    "imputed_dummy = imp.transform (dummy)\n",
    "\n",
    "# show orignal and imputed dataset\n",
    "print (dummy)\n",
    "print (\"\")\n",
    "print (imputed_dummy)"
   ]
  },
  {
   "cell_type": "markdown",
   "metadata": {},
   "source": [
    "## Research Problem: \n",
    "\n",
    "### Can we predict coffee rust amount using temperature, rain, production and futures data from Brasil?"
   ]
  },
  {
   "cell_type": "code",
   "execution_count": 4,
   "metadata": {},
   "outputs": [
    {
     "data": {
      "text/html": [
       "<div>\n",
       "<style scoped>\n",
       "    .dataframe tbody tr th:only-of-type {\n",
       "        vertical-align: middle;\n",
       "    }\n",
       "\n",
       "    .dataframe tbody tr th {\n",
       "        vertical-align: top;\n",
       "    }\n",
       "\n",
       "    .dataframe thead th {\n",
       "        text-align: right;\n",
       "    }\n",
       "</style>\n",
       "<table border=\"1\" class=\"dataframe\">\n",
       "  <thead>\n",
       "    <tr style=\"text-align: right;\">\n",
       "      <th></th>\n",
       "      <th>Date</th>\n",
       "      <th>Rust</th>\n",
       "      <th>Temp</th>\n",
       "      <th>Rainfall</th>\n",
       "      <th>Production</th>\n",
       "      <th>Futures</th>\n",
       "    </tr>\n",
       "  </thead>\n",
       "  <tbody>\n",
       "    <tr>\n",
       "      <th>0</th>\n",
       "      <td>12/1/1993</td>\n",
       "      <td>0.0</td>\n",
       "      <td>25.7498</td>\n",
       "      <td>208.841</td>\n",
       "      <td>2347.25</td>\n",
       "      <td>0.7865</td>\n",
       "    </tr>\n",
       "    <tr>\n",
       "      <th>1</th>\n",
       "      <td>12/8/1993</td>\n",
       "      <td>0.0</td>\n",
       "      <td>25.7498</td>\n",
       "      <td>208.841</td>\n",
       "      <td>2347.25</td>\n",
       "      <td>0.7715</td>\n",
       "    </tr>\n",
       "    <tr>\n",
       "      <th>2</th>\n",
       "      <td>12/15/1993</td>\n",
       "      <td>0.0</td>\n",
       "      <td>25.7498</td>\n",
       "      <td>208.841</td>\n",
       "      <td>2347.25</td>\n",
       "      <td>0.7980</td>\n",
       "    </tr>\n",
       "    <tr>\n",
       "      <th>3</th>\n",
       "      <td>12/22/1993</td>\n",
       "      <td>0.0</td>\n",
       "      <td>25.7498</td>\n",
       "      <td>208.841</td>\n",
       "      <td>2347.25</td>\n",
       "      <td>0.7630</td>\n",
       "    </tr>\n",
       "    <tr>\n",
       "      <th>4</th>\n",
       "      <td>12/29/1993</td>\n",
       "      <td>0.0</td>\n",
       "      <td>25.7498</td>\n",
       "      <td>208.841</td>\n",
       "      <td>2347.25</td>\n",
       "      <td>0.7490</td>\n",
       "    </tr>\n",
       "  </tbody>\n",
       "</table>\n",
       "</div>"
      ],
      "text/plain": [
       "         Date  Rust     Temp  Rainfall  Production  Futures\n",
       "0   12/1/1993   0.0  25.7498   208.841     2347.25   0.7865\n",
       "1   12/8/1993   0.0  25.7498   208.841     2347.25   0.7715\n",
       "2  12/15/1993   0.0  25.7498   208.841     2347.25   0.7980\n",
       "3  12/22/1993   0.0  25.7498   208.841     2347.25   0.7630\n",
       "4  12/29/1993   0.0  25.7498   208.841     2347.25   0.7490"
      ]
     },
     "execution_count": 4,
     "metadata": {},
     "output_type": "execute_result"
    }
   ],
   "source": [
    "#Now let's try it with real data\n",
    "\n",
    "#Import Coffee Rust Data\n",
    "\n",
    "#1578 weekly observations from Coffee-Rust in Brasil from December 1,1993-July 30, 2018\n",
    "#Missing 48% of rust data \n",
    "#Use kNN imputation to fill in this missing data \n",
    "\n",
    "#Data Acquisition described at: https://github.com/thedatalass.\n",
    " \n",
    "import pandas as pd\n",
    "df = pd.read_csv(\"brasil_imputed.csv\")\n",
    "df.head()"
   ]
  },
  {
   "cell_type": "code",
   "execution_count": 5,
   "metadata": {},
   "outputs": [
    {
     "data": {
      "text/html": [
       "<div>\n",
       "<style scoped>\n",
       "    .dataframe tbody tr th:only-of-type {\n",
       "        vertical-align: middle;\n",
       "    }\n",
       "\n",
       "    .dataframe tbody tr th {\n",
       "        vertical-align: top;\n",
       "    }\n",
       "\n",
       "    .dataframe thead th {\n",
       "        text-align: right;\n",
       "    }\n",
       "</style>\n",
       "<table border=\"1\" class=\"dataframe\">\n",
       "  <thead>\n",
       "    <tr style=\"text-align: right;\">\n",
       "      <th></th>\n",
       "      <th>Rust</th>\n",
       "      <th>Temp</th>\n",
       "      <th>Rainfall</th>\n",
       "      <th>Production</th>\n",
       "      <th>Futures</th>\n",
       "    </tr>\n",
       "  </thead>\n",
       "  <tbody>\n",
       "    <tr>\n",
       "      <th>0</th>\n",
       "      <td>0.0</td>\n",
       "      <td>25.7498</td>\n",
       "      <td>208.841</td>\n",
       "      <td>2347.25</td>\n",
       "      <td>0.7865</td>\n",
       "    </tr>\n",
       "    <tr>\n",
       "      <th>1</th>\n",
       "      <td>0.0</td>\n",
       "      <td>25.7498</td>\n",
       "      <td>208.841</td>\n",
       "      <td>2347.25</td>\n",
       "      <td>0.7715</td>\n",
       "    </tr>\n",
       "    <tr>\n",
       "      <th>2</th>\n",
       "      <td>0.0</td>\n",
       "      <td>25.7498</td>\n",
       "      <td>208.841</td>\n",
       "      <td>2347.25</td>\n",
       "      <td>0.7980</td>\n",
       "    </tr>\n",
       "    <tr>\n",
       "      <th>3</th>\n",
       "      <td>0.0</td>\n",
       "      <td>25.7498</td>\n",
       "      <td>208.841</td>\n",
       "      <td>2347.25</td>\n",
       "      <td>0.7630</td>\n",
       "    </tr>\n",
       "    <tr>\n",
       "      <th>4</th>\n",
       "      <td>0.0</td>\n",
       "      <td>25.7498</td>\n",
       "      <td>208.841</td>\n",
       "      <td>2347.25</td>\n",
       "      <td>0.7490</td>\n",
       "    </tr>\n",
       "  </tbody>\n",
       "</table>\n",
       "</div>"
      ],
      "text/plain": [
       "   Rust     Temp  Rainfall  Production  Futures\n",
       "0   0.0  25.7498   208.841     2347.25   0.7865\n",
       "1   0.0  25.7498   208.841     2347.25   0.7715\n",
       "2   0.0  25.7498   208.841     2347.25   0.7980\n",
       "3   0.0  25.7498   208.841     2347.25   0.7630\n",
       "4   0.0  25.7498   208.841     2347.25   0.7490"
      ]
     },
     "execution_count": 5,
     "metadata": {},
     "output_type": "execute_result"
    }
   ],
   "source": [
    "#Delete date column\n",
    "brasil = df.drop(df.columns[0], axis=1)\n",
    "brasil.head()"
   ]
  },
  {
   "cell_type": "code",
   "execution_count": 71,
   "metadata": {},
   "outputs": [
    {
     "data": {
      "text/html": [
       "<div>\n",
       "<style scoped>\n",
       "    .dataframe tbody tr th:only-of-type {\n",
       "        vertical-align: middle;\n",
       "    }\n",
       "\n",
       "    .dataframe tbody tr th {\n",
       "        vertical-align: top;\n",
       "    }\n",
       "\n",
       "    .dataframe thead th {\n",
       "        text-align: right;\n",
       "    }\n",
       "</style>\n",
       "<table border=\"1\" class=\"dataframe\">\n",
       "  <thead>\n",
       "    <tr style=\"text-align: right;\">\n",
       "      <th></th>\n",
       "      <th>Rust</th>\n",
       "      <th>Temp</th>\n",
       "      <th>Rainfall</th>\n",
       "      <th>Production</th>\n",
       "      <th>Futures</th>\n",
       "    </tr>\n",
       "  </thead>\n",
       "  <tbody>\n",
       "    <tr>\n",
       "      <th>0</th>\n",
       "      <td>0.0</td>\n",
       "      <td>25.7498</td>\n",
       "      <td>208.841</td>\n",
       "      <td>2347.25</td>\n",
       "      <td>0.7865</td>\n",
       "    </tr>\n",
       "    <tr>\n",
       "      <th>1</th>\n",
       "      <td>0.0</td>\n",
       "      <td>25.7498</td>\n",
       "      <td>208.841</td>\n",
       "      <td>2347.25</td>\n",
       "      <td>0.7715</td>\n",
       "    </tr>\n",
       "    <tr>\n",
       "      <th>2</th>\n",
       "      <td>0.0</td>\n",
       "      <td>25.7498</td>\n",
       "      <td>208.841</td>\n",
       "      <td>2347.25</td>\n",
       "      <td>0.7980</td>\n",
       "    </tr>\n",
       "    <tr>\n",
       "      <th>3</th>\n",
       "      <td>0.0</td>\n",
       "      <td>25.7498</td>\n",
       "      <td>208.841</td>\n",
       "      <td>2347.25</td>\n",
       "      <td>0.7630</td>\n",
       "    </tr>\n",
       "    <tr>\n",
       "      <th>4</th>\n",
       "      <td>0.0</td>\n",
       "      <td>25.7498</td>\n",
       "      <td>208.841</td>\n",
       "      <td>2347.25</td>\n",
       "      <td>0.7490</td>\n",
       "    </tr>\n",
       "  </tbody>\n",
       "</table>\n",
       "</div>"
      ],
      "text/plain": [
       "   Rust     Temp  Rainfall  Production  Futures\n",
       "0   0.0  25.7498   208.841     2347.25   0.7865\n",
       "1   0.0  25.7498   208.841     2347.25   0.7715\n",
       "2   0.0  25.7498   208.841     2347.25   0.7980\n",
       "3   0.0  25.7498   208.841     2347.25   0.7630\n",
       "4   0.0  25.7498   208.841     2347.25   0.7490"
      ]
     },
     "execution_count": 71,
     "metadata": {},
     "output_type": "execute_result"
    }
   ],
   "source": [
    "brasil.drop(brasil.tail(1).index,inplace=True)\n",
    "brasil.head()"
   ]
  },
  {
   "cell_type": "code",
   "execution_count": 72,
   "metadata": {},
   "outputs": [
    {
     "data": {
      "text/plain": [
       "array([[0.00000e+00, 2.57498e+01, 2.08841e+02, 2.34725e+03, 7.86500e-01],\n",
       "       [0.00000e+00, 2.57498e+01, 2.08841e+02, 2.34725e+03, 7.71500e-01],\n",
       "       [0.00000e+00, 2.57498e+01, 2.08841e+02, 2.34725e+03, 7.98000e-01],\n",
       "       ...,\n",
       "       [5.00000e+01, 2.56557e+01, 2.38866e+02, 2.27383e+03, 9.27000e-01],\n",
       "       [5.00000e+01, 2.56557e+01, 2.38866e+02, 2.27383e+03, 9.32500e-01],\n",
       "       [5.00000e+01, 2.56557e+01, 2.38866e+02, 2.27383e+03, 9.27500e-01]])"
      ]
     },
     "execution_count": 72,
     "metadata": {},
     "output_type": "execute_result"
    }
   ],
   "source": [
    "#Convert pandas dataframe as numpy array\n",
    "array = brasil.values\n",
    "array"
   ]
  },
  {
   "cell_type": "code",
   "execution_count": 30,
   "metadata": {},
   "outputs": [],
   "source": [
    "#import numpy as np\n",
    "#from rkNN_imputer.rkNN import rkNN\n",
    "\n",
    "#imp = rkNN ()\n",
    "#imp.fit (array)\n",
    "#imputed_array = imp.transform (array)"
   ]
  },
  {
   "cell_type": "code",
   "execution_count": 31,
   "metadata": {},
   "outputs": [],
   "source": [
    "#Let's look at just the array\n",
    "#imputed_array"
   ]
  },
  {
   "cell_type": "code",
   "execution_count": 32,
   "metadata": {},
   "outputs": [],
   "source": [
    "#Convert imputed values back to pandas dataframe\n",
    "\n",
    "#Code adapted from https://www.ritchieng.com/creating-dataframe-from-objects/\n",
    "# columns\n",
    "#columns_new = ['temp', 'rain','production','futures','rust']\n",
    "\n",
    "# pass in array and columns\n",
    "#brasil_new = pd.DataFrame(imputed_array, columns=columns_new)\n",
    "#brasil_new.head()"
   ]
  },
  {
   "cell_type": "code",
   "execution_count": 33,
   "metadata": {},
   "outputs": [],
   "source": [
    "#Save imputed dataframe \"brasil_new\" to CSV\n",
    "brasil.to_csv(\"brasil.csv\")"
   ]
  },
  {
   "cell_type": "markdown",
   "metadata": {},
   "source": [
    "Code to combine date from 'df' dataframe with 'brasil_new' dataframe\n",
    "\n",
    "brasil_new['Date']=df.sum(axis=1)"
   ]
  },
  {
   "cell_type": "code",
   "execution_count": 73,
   "metadata": {},
   "outputs": [],
   "source": [
    "#But do we need the date for our models???\n",
    "#Let's try Exploratory Data Analysis without dates first\n",
    "\n",
    "#CMD - pip install pytz, pip install pandas, pip install matplotlib, pip install numpy\n",
    "#Import libraries\n",
    "import pandas as pd\n",
    "import numpy as np\n",
    "import matplotlib.pyplot as plt\n",
    "import seaborn as sns\n",
    "sns.set_style('white')\n",
    "%matplotlib inline"
   ]
  },
  {
   "cell_type": "code",
   "execution_count": 74,
   "metadata": {},
   "outputs": [
    {
     "data": {
      "text/html": [
       "<div>\n",
       "<style scoped>\n",
       "    .dataframe tbody tr th:only-of-type {\n",
       "        vertical-align: middle;\n",
       "    }\n",
       "\n",
       "    .dataframe tbody tr th {\n",
       "        vertical-align: top;\n",
       "    }\n",
       "\n",
       "    .dataframe thead th {\n",
       "        text-align: right;\n",
       "    }\n",
       "</style>\n",
       "<table border=\"1\" class=\"dataframe\">\n",
       "  <thead>\n",
       "    <tr style=\"text-align: right;\">\n",
       "      <th></th>\n",
       "      <th>count</th>\n",
       "      <th>mean</th>\n",
       "      <th>std</th>\n",
       "      <th>min</th>\n",
       "      <th>25%</th>\n",
       "      <th>50%</th>\n",
       "      <th>75%</th>\n",
       "      <th>max</th>\n",
       "    </tr>\n",
       "  </thead>\n",
       "  <tbody>\n",
       "    <tr>\n",
       "      <th>Rust</th>\n",
       "      <td>1584.0</td>\n",
       "      <td>14.732570</td>\n",
       "      <td>12.765871</td>\n",
       "      <td>0.0000</td>\n",
       "      <td>3.0000</td>\n",
       "      <td>13.4000</td>\n",
       "      <td>20.00000</td>\n",
       "      <td>50.0000</td>\n",
       "    </tr>\n",
       "    <tr>\n",
       "      <th>Temp</th>\n",
       "      <td>1584.0</td>\n",
       "      <td>25.535762</td>\n",
       "      <td>0.975633</td>\n",
       "      <td>22.8491</td>\n",
       "      <td>24.7720</td>\n",
       "      <td>25.7505</td>\n",
       "      <td>26.20360</td>\n",
       "      <td>27.3725</td>\n",
       "    </tr>\n",
       "    <tr>\n",
       "      <th>Rainfall</th>\n",
       "      <td>1584.0</td>\n",
       "      <td>144.498528</td>\n",
       "      <td>69.670390</td>\n",
       "      <td>6.0000</td>\n",
       "      <td>75.5808</td>\n",
       "      <td>141.8400</td>\n",
       "      <td>203.72700</td>\n",
       "      <td>292.0630</td>\n",
       "    </tr>\n",
       "    <tr>\n",
       "      <th>Production</th>\n",
       "      <td>1584.0</td>\n",
       "      <td>3390.330928</td>\n",
       "      <td>935.568940</td>\n",
       "      <td>1505.0000</td>\n",
       "      <td>2433.0800</td>\n",
       "      <td>3273.4200</td>\n",
       "      <td>4250.00000</td>\n",
       "      <td>5000.0000</td>\n",
       "    </tr>\n",
       "    <tr>\n",
       "      <th>Futures</th>\n",
       "      <td>1584.0</td>\n",
       "      <td>1.218709</td>\n",
       "      <td>0.481500</td>\n",
       "      <td>0.4250</td>\n",
       "      <td>0.8525</td>\n",
       "      <td>1.1815</td>\n",
       "      <td>1.43675</td>\n",
       "      <td>3.1480</td>\n",
       "    </tr>\n",
       "  </tbody>\n",
       "</table>\n",
       "</div>"
      ],
      "text/plain": [
       "             count         mean         std        min        25%        50%  \\\n",
       "Rust        1584.0    14.732570   12.765871     0.0000     3.0000    13.4000   \n",
       "Temp        1584.0    25.535762    0.975633    22.8491    24.7720    25.7505   \n",
       "Rainfall    1584.0   144.498528   69.670390     6.0000    75.5808   141.8400   \n",
       "Production  1584.0  3390.330928  935.568940  1505.0000  2433.0800  3273.4200   \n",
       "Futures     1584.0     1.218709    0.481500     0.4250     0.8525     1.1815   \n",
       "\n",
       "                   75%        max  \n",
       "Rust          20.00000    50.0000  \n",
       "Temp          26.20360    27.3725  \n",
       "Rainfall     203.72700   292.0630  \n",
       "Production  4250.00000  5000.0000  \n",
       "Futures        1.43675     3.1480  "
      ]
     },
     "execution_count": 74,
     "metadata": {},
     "output_type": "execute_result"
    }
   ],
   "source": [
    "#Basic statistics - Note we added ? values to any rust > 5\n",
    "df.describe().transpose()"
   ]
  },
  {
   "cell_type": "code",
   "execution_count": 75,
   "metadata": {},
   "outputs": [
    {
     "data": {
      "text/plain": [
       "Text(0.5, 1.0, 'Exploring Coffee Rust, Production and Futures')"
      ]
     },
     "execution_count": 75,
     "metadata": {},
     "output_type": "execute_result"
    },
    {
     "data": {
      "image/png": "[encoded data removed]",
      "text/plain": [
       "<Figure size 432x288 with 1 Axes>"
      ]
     },
     "metadata": {
      "needs_background": "light"
     },
     "output_type": "display_data"
    }
   ],
   "source": [
    "df.plot();\n",
    "plt.title(\"Exploring Coffee Rust, Production and Futures\", fontsize=16)"
   ]
  },
  {
   "cell_type": "code",
   "execution_count": 94,
   "metadata": {},
   "outputs": [
    {
     "data": {
      "text/plain": [
       "<matplotlib.legend.Legend at 0x245522c2978>"
      ]
     },
     "execution_count": 94,
     "metadata": {},
     "output_type": "execute_result"
    },
    {
     "data": {
      "image/png": "[encoded data removed]",
      "text/plain": [
       "<Figure size 432x288 with 1 Axes>"
      ]
     },
     "metadata": {
      "needs_background": "light"
     },
     "output_type": "display_data"
    }
   ],
   "source": [
    "df['Rust'].plot(color='black')\n",
    "df['Futures'].plot(color='#ac7339')\n",
    "#Set x-axis range from 0-50\n",
    "plt.xlim(0,80)\n",
    "plt.ylim(0,4)\n",
    "#Add xaxis label\n",
    "plt.xlabel(\"Percent Rust on Plant\", fontsize=16)\n",
    "#Add yaxis label\n",
    "plt.ylabel(\"Futures (in USD)\", fontsize=16)\n",
    "plt.title(\"Coffee Rust versus Futures\", fontsize=18)\n",
    "plt.legend()"
   ]
  },
  {
   "cell_type": "code",
   "execution_count": 12,
   "metadata": {},
   "outputs": [
    {
     "data": {
      "text/plain": [
       "Text(0.5,1,'Coffee Rust Histogram')"
      ]
     },
     "execution_count": 12,
     "metadata": {},
     "output_type": "execute_result"
    },
    {
     "data": {
      "image/png": "[encoded data removed]",
      "text/plain": [
       "<Figure size 432x288 with 1 Axes>"
      ]
     },
     "metadata": {},
     "output_type": "display_data"
    }
   ],
   "source": [
    "#Histogram of Coffee Rust\n",
    "df['rust'].hist(bins=20, color='#ac7339')\n",
    "plt.xlabel(\"Percent Coffee Rust on Leaves\",fontsize=16)\n",
    "plt.ylabel(\"Percent Distribution\",fontsize=16)\n",
    "plt.title(\"Coffee Rust Histogram\",fontsize=18)"
   ]
  },
  {
   "cell_type": "code",
   "execution_count": 13,
   "metadata": {},
   "outputs": [
    {
     "data": {
      "image/png": "[encoded data removed]",
      "text/plain": [
       "<Figure size 432x288 with 2 Axes>"
      ]
     },
     "metadata": {},
     "output_type": "display_data"
    }
   ],
   "source": [
    "import seaborn as sns\n",
    "ax = plt.axes()\n",
    "corr = df.corr()\n",
    "#The default colors were changed to 'BrBG_r' to match better with the \n",
    "#browns in the other visualizations.\n",
    "sns.heatmap(corr, cmap='BrBG_r',xticklabels=corr.columns.values, yticklabels=corr.columns.values)\n",
    "#Label title\n",
    "ax.set_title('Correlation Matrix of Variables',fontsize=18)\n",
    "plt.show()"
   ]
  },
  {
   "cell_type": "code",
   "execution_count": 14,
   "metadata": {},
   "outputs": [
    {
     "data": {
      "image/png": "[encoded data removed]",
      "text/plain": [
       "<Figure size 432x288 with 1 Axes>"
      ]
     },
     "metadata": {},
     "output_type": "display_data"
    }
   ],
   "source": [
    "#Next, we could use Seaborn library for regression visualization of Rust versus Production\n",
    "ax = plt.axes()\n",
    "ax.set_title('Linear Regression of Rust and Temp',fontsize=16)\n",
    "ax.set_xlabel('Percent Rust on Plant',fontsize=16)\n",
    "ax.set_ylabel('Production in 1000-60kg bags',fontsize=16)\n",
    "sns.regplot(x=df['rust'],color='#ac7339', y=df['temp'],scatter_kws={\"color\":\"black\",\"alpha\":0.3,\"lw\":4} )\n",
    "plt.show()"
   ]
  },
  {
   "cell_type": "code",
   "execution_count": 95,
   "metadata": {},
   "outputs": [
    {
     "data": {
      "text/html": [
       "<div>\n",
       "<style scoped>\n",
       "    .dataframe tbody tr th:only-of-type {\n",
       "        vertical-align: middle;\n",
       "    }\n",
       "\n",
       "    .dataframe tbody tr th {\n",
       "        vertical-align: top;\n",
       "    }\n",
       "\n",
       "    .dataframe thead th {\n",
       "        text-align: right;\n",
       "    }\n",
       "</style>\n",
       "<table border=\"1\" class=\"dataframe\">\n",
       "  <thead>\n",
       "    <tr style=\"text-align: right;\">\n",
       "      <th></th>\n",
       "      <th>Futures</th>\n",
       "      <th>Production</th>\n",
       "      <th>Rainfall</th>\n",
       "      <th>Temp</th>\n",
       "    </tr>\n",
       "    <tr>\n",
       "      <th>Rust</th>\n",
       "      <th></th>\n",
       "      <th></th>\n",
       "      <th></th>\n",
       "      <th></th>\n",
       "    </tr>\n",
       "  </thead>\n",
       "  <tbody>\n",
       "    <tr>\n",
       "      <th>0.000000</th>\n",
       "      <td>2.000874</td>\n",
       "      <td>3434.275385</td>\n",
       "      <td>130.456282</td>\n",
       "      <td>25.442776</td>\n",
       "    </tr>\n",
       "    <tr>\n",
       "      <th>0.166667</th>\n",
       "      <td>1.816250</td>\n",
       "      <td>4452.330000</td>\n",
       "      <td>112.547000</td>\n",
       "      <td>26.642000</td>\n",
       "    </tr>\n",
       "    <tr>\n",
       "      <th>0.333333</th>\n",
       "      <td>1.429000</td>\n",
       "      <td>4730.330000</td>\n",
       "      <td>195.832000</td>\n",
       "      <td>26.397100</td>\n",
       "    </tr>\n",
       "    <tr>\n",
       "      <th>0.400000</th>\n",
       "      <td>1.444750</td>\n",
       "      <td>4544.290000</td>\n",
       "      <td>195.832000</td>\n",
       "      <td>26.397100</td>\n",
       "    </tr>\n",
       "    <tr>\n",
       "      <th>0.500000</th>\n",
       "      <td>1.425000</td>\n",
       "      <td>4558.170000</td>\n",
       "      <td>169.603000</td>\n",
       "      <td>25.717300</td>\n",
       "    </tr>\n",
       "  </tbody>\n",
       "</table>\n",
       "</div>"
      ],
      "text/plain": [
       "           Futures   Production    Rainfall       Temp\n",
       "Rust                                                  \n",
       "0.000000  2.000874  3434.275385  130.456282  25.442776\n",
       "0.166667  1.816250  4452.330000  112.547000  26.642000\n",
       "0.333333  1.429000  4730.330000  195.832000  26.397100\n",
       "0.400000  1.444750  4544.290000  195.832000  26.397100\n",
       "0.500000  1.425000  4558.170000  169.603000  25.717300"
      ]
     },
     "execution_count": 95,
     "metadata": {},
     "output_type": "execute_result"
    }
   ],
   "source": [
    "#Let's use a pivot table to group the data by Rust percent.\n",
    "pivot_df = df.pivot_table(index=['Rust'])\n",
    "pivot_df.head()"
   ]
  },
  {
   "cell_type": "code",
   "execution_count": 96,
   "metadata": {},
   "outputs": [
    {
     "name": "stdout",
     "output_type": "stream",
     "text": [
      "Slope [-2.51786375e-03 -3.55573121e+00 -5.14376898e-01 -1.02669507e-02]\n",
      "NRMSE: Futures       0.169462\n",
      "Production    0.000114\n",
      "Rainfall      0.001455\n",
      "Temp          0.087758\n",
      "dtype: float64\n"
     ]
    }
   ],
   "source": [
    "#Let's see error and slope of each variable\n",
    "import numpy as np\n",
    "coefficients, residuals, _, _, _ = np.polyfit(range(len(pivot_df.index)),pivot_df,1,full=True)\n",
    "mse = residuals[0]/(len(pivot_df.index))\n",
    "nrmse = np.sqrt(mse)/(pivot_df.max() - pivot_df.min())\n",
    "\n",
    "#Print results\n",
    "print('Slope ' + str(coefficients[0]))\n",
    "print('NRMSE: ' + str(nrmse))"
   ]
  },
  {
   "cell_type": "markdown",
   "metadata": {},
   "source": [
    "Now that we've done some EDA, let's try a multiperceptron neural network"
   ]
  },
  {
   "cell_type": "code",
   "execution_count": 97,
   "metadata": {},
   "outputs": [
    {
     "data": {
      "text/html": [
       "<div>\n",
       "<style scoped>\n",
       "    .dataframe tbody tr th:only-of-type {\n",
       "        vertical-align: middle;\n",
       "    }\n",
       "\n",
       "    .dataframe tbody tr th {\n",
       "        vertical-align: top;\n",
       "    }\n",
       "\n",
       "    .dataframe thead th {\n",
       "        text-align: right;\n",
       "    }\n",
       "</style>\n",
       "<table border=\"1\" class=\"dataframe\">\n",
       "  <thead>\n",
       "    <tr style=\"text-align: right;\">\n",
       "      <th></th>\n",
       "      <th>Rust</th>\n",
       "      <th>Temp</th>\n",
       "      <th>Rainfall</th>\n",
       "      <th>Production</th>\n",
       "      <th>Futures</th>\n",
       "    </tr>\n",
       "  </thead>\n",
       "  <tbody>\n",
       "    <tr>\n",
       "      <th>1578</th>\n",
       "      <td>48.0</td>\n",
       "      <td>25.1970</td>\n",
       "      <td>186.506</td>\n",
       "      <td>2179.00</td>\n",
       "      <td>2.1120</td>\n",
       "    </tr>\n",
       "    <tr>\n",
       "      <th>1579</th>\n",
       "      <td>48.0</td>\n",
       "      <td>25.1970</td>\n",
       "      <td>186.506</td>\n",
       "      <td>2179.00</td>\n",
       "      <td>2.0993</td>\n",
       "    </tr>\n",
       "    <tr>\n",
       "      <th>1580</th>\n",
       "      <td>50.0</td>\n",
       "      <td>25.6557</td>\n",
       "      <td>238.866</td>\n",
       "      <td>2273.83</td>\n",
       "      <td>0.9270</td>\n",
       "    </tr>\n",
       "    <tr>\n",
       "      <th>1581</th>\n",
       "      <td>50.0</td>\n",
       "      <td>25.6557</td>\n",
       "      <td>238.866</td>\n",
       "      <td>2273.83</td>\n",
       "      <td>0.9325</td>\n",
       "    </tr>\n",
       "    <tr>\n",
       "      <th>1582</th>\n",
       "      <td>50.0</td>\n",
       "      <td>25.6557</td>\n",
       "      <td>238.866</td>\n",
       "      <td>2273.83</td>\n",
       "      <td>0.9275</td>\n",
       "    </tr>\n",
       "  </tbody>\n",
       "</table>\n",
       "</div>"
      ],
      "text/plain": [
       "      Rust     Temp  Rainfall  Production  Futures\n",
       "1578  48.0  25.1970   186.506     2179.00   2.1120\n",
       "1579  48.0  25.1970   186.506     2179.00   2.0993\n",
       "1580  50.0  25.6557   238.866     2273.83   0.9270\n",
       "1581  50.0  25.6557   238.866     2273.83   0.9325\n",
       "1582  50.0  25.6557   238.866     2273.83   0.9275"
      ]
     },
     "execution_count": 97,
     "metadata": {},
     "output_type": "execute_result"
    }
   ],
   "source": [
    "#Let's look at the data again\n",
    "brasil.tail()"
   ]
  },
  {
   "cell_type": "markdown",
   "metadata": {},
   "source": [
    "### Now that Exploratory Data Analysis is Finished, let's move onto Machine Learning Models"
   ]
  },
  {
   "cell_type": "code",
   "execution_count": 3,
   "metadata": {},
   "outputs": [],
   "source": [
    "#Note in version 0.20 change syntax 'from sklearn.cross_validation import train_test_split' to\n",
    "#'from sklearn.model_selection import train_test_split'\n",
    "\n",
    "from sklearn.model_selection import train_test_split\n",
    "import sklearn.model_selection as cross_validation\n",
    "import sklearn.metrics as metrics"
   ]
  },
  {
   "cell_type": "code",
   "execution_count": 6,
   "metadata": {},
   "outputs": [],
   "source": [
    "#Yet another way to define X, Y variables. \n",
    "\n",
    "X = brasil.values[:, 1:4] #input features - Rainfall, Temperature, Production, Futures\n",
    "y = brasil.values[:, 1] #target output feature - Rust\n",
    "\n",
    "#To return a dataframe\n",
    "X =brasil.iloc[:, 1:4]\n",
    "y =brasil.iloc[:, 0]\n",
    "\n",
    "#Delete date column from pandas 'df'\n",
    "#dfnew = df.drop(['Date'], axis=1)"
   ]
  },
  {
   "cell_type": "code",
   "execution_count": 1,
   "metadata": {},
   "outputs": [
    {
     "ename": "NameError",
     "evalue": "name 'brasil' is not defined",
     "output_type": "error",
     "traceback": [
      "\u001b[1;31m---------------------------------------------------------------------------\u001b[0m",
      "\u001b[1;31mNameError\u001b[0m                                 Traceback (most recent call last)",
      "\u001b[1;32m<ipython-input-1-10aba74c6c73>\u001b[0m in \u001b[0;36m<module>\u001b[1;34m\u001b[0m\n\u001b[0;32m      1\u001b[0m \u001b[1;31m#Define variables\u001b[0m\u001b[1;33m\u001b[0m\u001b[1;33m\u001b[0m\u001b[1;33m\u001b[0m\u001b[0m\n\u001b[0;32m      2\u001b[0m \u001b[1;33m\u001b[0m\u001b[0m\n\u001b[1;32m----> 3\u001b[1;33m \u001b[0mX\u001b[0m \u001b[1;33m=\u001b[0m \u001b[0mbrasil\u001b[0m\u001b[1;33m.\u001b[0m\u001b[0mdrop\u001b[0m\u001b[1;33m(\u001b[0m\u001b[1;34m'Rust'\u001b[0m\u001b[1;33m,\u001b[0m\u001b[0maxis\u001b[0m\u001b[1;33m=\u001b[0m\u001b[1;36m1\u001b[0m\u001b[1;33m)\u001b[0m\u001b[1;33m\u001b[0m\u001b[1;33m\u001b[0m\u001b[0m\n\u001b[0m\u001b[0;32m      4\u001b[0m \u001b[0my\u001b[0m \u001b[1;33m=\u001b[0m \u001b[0mbrasil\u001b[0m\u001b[1;33m[\u001b[0m\u001b[1;34m'Rust'\u001b[0m\u001b[1;33m]\u001b[0m\u001b[1;33m\u001b[0m\u001b[1;33m\u001b[0m\u001b[0m\n",
      "\u001b[1;31mNameError\u001b[0m: name 'brasil' is not defined"
     ]
    }
   ],
   "source": [
    "#Define variables \n",
    "\n",
    "X = brasil.drop('Rust',axis=1)\n",
    "y = brasil['Rust']"
   ]
  },
  {
   "cell_type": "code",
   "execution_count": 7,
   "metadata": {},
   "outputs": [],
   "source": [
    "#Let's split the variables into training and test (test size = 20%)\n",
    "from sklearn.model_selection import train_test_split\n",
    "X_train, X_test, y_train, y_test = train_test_split(X, y, test_size=0.20)"
   ]
  },
  {
   "cell_type": "code",
   "execution_count": 9,
   "metadata": {},
   "outputs": [],
   "source": [
    "# Next we need to do Feature Scaling since we have continuous variables\n",
    "from sklearn.preprocessing import StandardScaler\n",
    "sc = StandardScaler()\n",
    "X_train = sc.fit_transform(X_train)\n",
    "X_test = sc.transform(X_test)"
   ]
  },
  {
   "cell_type": "markdown",
   "metadata": {},
   "source": [
    "### Logistic Regression is a Good Starting Place"
   ]
  },
  {
   "cell_type": "code",
   "execution_count": 10,
   "metadata": {},
   "outputs": [
    {
     "name": "stderr",
     "output_type": "stream",
     "text": [
      "C:\\Users\\laura.kahn\\AppData\\Local\\Continuum\\anaconda3\\lib\\site-packages\\sklearn\\linear_model\\logistic.py:433: FutureWarning: Default solver will be changed to 'lbfgs' in 0.22. Specify a solver to silence this warning.\n",
      "  FutureWarning)\n"
     ]
    },
    {
     "ename": "ValueError",
     "evalue": "Unknown label type: 'continuous'",
     "output_type": "error",
     "traceback": [
      "\u001b[1;31m---------------------------------------------------------------------------\u001b[0m",
      "\u001b[1;31mValueError\u001b[0m                                Traceback (most recent call last)",
      "\u001b[1;32m<ipython-input-10-613c1ed49ed2>\u001b[0m in \u001b[0;36m<module>\u001b[1;34m\u001b[0m\n\u001b[0;32m      3\u001b[0m \u001b[1;31m#Fit a Logistic Regression model to the data\u001b[0m\u001b[1;33m\u001b[0m\u001b[1;33m\u001b[0m\u001b[1;33m\u001b[0m\u001b[0m\n\u001b[0;32m      4\u001b[0m \u001b[0mlogistic\u001b[0m \u001b[1;33m=\u001b[0m \u001b[0mLogisticRegression\u001b[0m\u001b[1;33m(\u001b[0m\u001b[1;33m)\u001b[0m\u001b[1;33m\u001b[0m\u001b[1;33m\u001b[0m\u001b[0m\n\u001b[1;32m----> 5\u001b[1;33m \u001b[0mlogistic\u001b[0m\u001b[1;33m.\u001b[0m\u001b[0mfit\u001b[0m\u001b[1;33m(\u001b[0m\u001b[0mX_train\u001b[0m\u001b[1;33m,\u001b[0m \u001b[0my_train\u001b[0m\u001b[1;33m)\u001b[0m\u001b[1;33m\u001b[0m\u001b[1;33m\u001b[0m\u001b[0m\n\u001b[0m\u001b[0;32m      6\u001b[0m \u001b[1;33m\u001b[0m\u001b[0m\n\u001b[0;32m      7\u001b[0m \u001b[1;31m#Predicted Rust Values\u001b[0m\u001b[1;33m\u001b[0m\u001b[1;33m\u001b[0m\u001b[1;33m\u001b[0m\u001b[0m\n",
      "\u001b[1;32m~\\AppData\\Local\\Continuum\\anaconda3\\lib\\site-packages\\sklearn\\linear_model\\logistic.py\u001b[0m in \u001b[0;36mfit\u001b[1;34m(self, X, y, sample_weight)\u001b[0m\n\u001b[0;32m   1284\u001b[0m         X, y = check_X_y(X, y, accept_sparse='csr', dtype=_dtype, order=\"C\",\n\u001b[0;32m   1285\u001b[0m                          accept_large_sparse=solver != 'liblinear')\n\u001b[1;32m-> 1286\u001b[1;33m         \u001b[0mcheck_classification_targets\u001b[0m\u001b[1;33m(\u001b[0m\u001b[0my\u001b[0m\u001b[1;33m)\u001b[0m\u001b[1;33m\u001b[0m\u001b[1;33m\u001b[0m\u001b[0m\n\u001b[0m\u001b[0;32m   1287\u001b[0m         \u001b[0mself\u001b[0m\u001b[1;33m.\u001b[0m\u001b[0mclasses_\u001b[0m \u001b[1;33m=\u001b[0m \u001b[0mnp\u001b[0m\u001b[1;33m.\u001b[0m\u001b[0munique\u001b[0m\u001b[1;33m(\u001b[0m\u001b[0my\u001b[0m\u001b[1;33m)\u001b[0m\u001b[1;33m\u001b[0m\u001b[1;33m\u001b[0m\u001b[0m\n\u001b[0;32m   1288\u001b[0m         \u001b[0mn_samples\u001b[0m\u001b[1;33m,\u001b[0m \u001b[0mn_features\u001b[0m \u001b[1;33m=\u001b[0m \u001b[0mX\u001b[0m\u001b[1;33m.\u001b[0m\u001b[0mshape\u001b[0m\u001b[1;33m\u001b[0m\u001b[1;33m\u001b[0m\u001b[0m\n",
      "\u001b[1;32m~\\AppData\\Local\\Continuum\\anaconda3\\lib\\site-packages\\sklearn\\utils\\multiclass.py\u001b[0m in \u001b[0;36mcheck_classification_targets\u001b[1;34m(y)\u001b[0m\n\u001b[0;32m    169\u001b[0m     if y_type not in ['binary', 'multiclass', 'multiclass-multioutput',\n\u001b[0;32m    170\u001b[0m                       'multilabel-indicator', 'multilabel-sequences']:\n\u001b[1;32m--> 171\u001b[1;33m         \u001b[1;32mraise\u001b[0m \u001b[0mValueError\u001b[0m\u001b[1;33m(\u001b[0m\u001b[1;34m\"Unknown label type: %r\"\u001b[0m \u001b[1;33m%\u001b[0m \u001b[0my_type\u001b[0m\u001b[1;33m)\u001b[0m\u001b[1;33m\u001b[0m\u001b[1;33m\u001b[0m\u001b[0m\n\u001b[0m\u001b[0;32m    172\u001b[0m \u001b[1;33m\u001b[0m\u001b[0m\n\u001b[0;32m    173\u001b[0m \u001b[1;33m\u001b[0m\u001b[0m\n",
      "\u001b[1;31mValueError\u001b[0m: Unknown label type: 'continuous'"
     ]
    }
   ],
   "source": [
    "from sklearn.linear_model import LogisticRegression\n",
    "\n",
    "#Fit a Logistic Regression model to the data\n",
    "logistic = LogisticRegression()\n",
    "logistic.fit(X_train, y_train)\n",
    "\n",
    "#Predicted Rust Values\n",
    "LogRegrRust = logistic.predict(X)"
   ]
  },
  {
   "cell_type": "markdown",
   "metadata": {},
   "source": [
    "- Next let's try Decision Tree Regressor"
   ]
  },
  {
   "cell_type": "code",
   "execution_count": 11,
   "metadata": {},
   "outputs": [],
   "source": [
    "from sklearn.tree import DecisionTreeRegressor\n",
    "\n",
    "DTregressor = DecisionTreeRegressor(criterion='mse',splitter='best',random_state=0)\n",
    "DTregressor.fit(X_train,y_train)\n",
    "\n",
    "#Predicted Rust Values\n",
    "DTRegrRust = DTregressor.predict(X)"
   ]
  },
  {
   "cell_type": "markdown",
   "metadata": {},
   "source": [
    "### Since the data is non-linear, let's try an Artificial Neural Network"
   ]
  },
  {
   "cell_type": "code",
   "execution_count": 26,
   "metadata": {},
   "outputs": [
    {
     "name": "stdout",
     "output_type": "stream",
     "text": [
      "MSE MLP 65 relu: 56.322109327594376\n"
     ]
    }
   ],
   "source": [
    "#6 neurons & 5 layers\n",
    "from sklearn.neural_network import MLPRegressor\n",
    "\n",
    "mlp= MLPRegressor(activation='relu',solver='lbfgs', hidden_layer_sizes=(6,6,6,6,6), random_state=1,max_iter=1500)\n",
    "\n",
    "#Fit training data to model\n",
    "mlp.fit(X_train,y_train)\n",
    "\n",
    "#Make predictions\n",
    "predictions = mlp.predict(X_test)\n",
    "\n",
    "#Set true and predicted target variables\n",
    "y_true = y_test\n",
    "y_pred = predictions\n",
    "\n",
    "#Measure 6 neurons, 5 layer mean squared error\n",
    "from sklearn.metrics import mean_squared_error\n",
    "MSE = mean_squared_error(y_true, y_pred)\n",
    "\n",
    "print ('MSE MLP 65 relu:', MSE)"
   ]
  },
  {
   "cell_type": "code",
   "execution_count": 29,
   "metadata": {},
   "outputs": [],
   "source": [
    "#Predicted Rust Values\n",
    "MLPRust = mlp.predict(X)"
   ]
  },
  {
   "cell_type": "code",
   "execution_count": 31,
   "metadata": {},
   "outputs": [],
   "source": [
    "#Convert array to dataframe\n",
    "#LRdf = pd.DataFrame(LogRegrRust, columns=['LogRegr Predicted'])\n",
    "DTdf = pd.DataFrame(DTRegrRust, columns=['DTRegr Predicted'])\n",
    "MLPdf = pd.DataFrame(MLPRust, columns=['MLPRegr Predicted'])"
   ]
  },
  {
   "cell_type": "code",
   "execution_count": 108,
   "metadata": {},
   "outputs": [
    {
     "data": {
      "text/html": [
       "<div>\n",
       "<style scoped>\n",
       "    .dataframe tbody tr th:only-of-type {\n",
       "        vertical-align: middle;\n",
       "    }\n",
       "\n",
       "    .dataframe tbody tr th {\n",
       "        vertical-align: top;\n",
       "    }\n",
       "\n",
       "    .dataframe thead th {\n",
       "        text-align: right;\n",
       "    }\n",
       "</style>\n",
       "<table border=\"1\" class=\"dataframe\">\n",
       "  <thead>\n",
       "    <tr style=\"text-align: right;\">\n",
       "      <th></th>\n",
       "      <th>LogRegr Predicted</th>\n",
       "    </tr>\n",
       "  </thead>\n",
       "  <tbody>\n",
       "    <tr>\n",
       "      <th>0</th>\n",
       "      <td>11.833333</td>\n",
       "    </tr>\n",
       "    <tr>\n",
       "      <th>1</th>\n",
       "      <td>11.833333</td>\n",
       "    </tr>\n",
       "    <tr>\n",
       "      <th>2</th>\n",
       "      <td>11.833333</td>\n",
       "    </tr>\n",
       "    <tr>\n",
       "      <th>3</th>\n",
       "      <td>11.833333</td>\n",
       "    </tr>\n",
       "    <tr>\n",
       "      <th>4</th>\n",
       "      <td>11.833333</td>\n",
       "    </tr>\n",
       "  </tbody>\n",
       "</table>\n",
       "</div>"
      ],
      "text/plain": [
       "   LogRegr Predicted\n",
       "0          11.833333\n",
       "1          11.833333\n",
       "2          11.833333\n",
       "3          11.833333\n",
       "4          11.833333"
      ]
     },
     "execution_count": 108,
     "metadata": {},
     "output_type": "execute_result"
    }
   ],
   "source": [
    "LRdf.head()"
   ]
  },
  {
   "cell_type": "code",
   "execution_count": 109,
   "metadata": {},
   "outputs": [
    {
     "data": {
      "text/html": [
       "<div>\n",
       "<style scoped>\n",
       "    .dataframe tbody tr th:only-of-type {\n",
       "        vertical-align: middle;\n",
       "    }\n",
       "\n",
       "    .dataframe tbody tr th {\n",
       "        vertical-align: top;\n",
       "    }\n",
       "\n",
       "    .dataframe thead th {\n",
       "        text-align: right;\n",
       "    }\n",
       "</style>\n",
       "<table border=\"1\" class=\"dataframe\">\n",
       "  <thead>\n",
       "    <tr style=\"text-align: right;\">\n",
       "      <th></th>\n",
       "      <th>LogRegr Predicted</th>\n",
       "      <th>DTRegr Predicted</th>\n",
       "      <th>MLPRegr Predicted</th>\n",
       "    </tr>\n",
       "  </thead>\n",
       "  <tbody>\n",
       "    <tr>\n",
       "      <th>0</th>\n",
       "      <td>11.833333</td>\n",
       "      <td>3.111111</td>\n",
       "      <td>11392.231934</td>\n",
       "    </tr>\n",
       "    <tr>\n",
       "      <th>1</th>\n",
       "      <td>11.833333</td>\n",
       "      <td>3.111111</td>\n",
       "      <td>11392.231934</td>\n",
       "    </tr>\n",
       "    <tr>\n",
       "      <th>2</th>\n",
       "      <td>11.833333</td>\n",
       "      <td>3.111111</td>\n",
       "      <td>11392.231934</td>\n",
       "    </tr>\n",
       "    <tr>\n",
       "      <th>3</th>\n",
       "      <td>11.833333</td>\n",
       "      <td>3.111111</td>\n",
       "      <td>11392.231934</td>\n",
       "    </tr>\n",
       "    <tr>\n",
       "      <th>4</th>\n",
       "      <td>11.833333</td>\n",
       "      <td>3.111111</td>\n",
       "      <td>11392.231934</td>\n",
       "    </tr>\n",
       "  </tbody>\n",
       "</table>\n",
       "</div>"
      ],
      "text/plain": [
       "   LogRegr Predicted  DTRegr Predicted  MLPRegr Predicted\n",
       "0          11.833333          3.111111       11392.231934\n",
       "1          11.833333          3.111111       11392.231934\n",
       "2          11.833333          3.111111       11392.231934\n",
       "3          11.833333          3.111111       11392.231934\n",
       "4          11.833333          3.111111       11392.231934"
      ]
     },
     "execution_count": 109,
     "metadata": {},
     "output_type": "execute_result"
    }
   ],
   "source": [
    "#Combine all three dataframes\n",
    "combined = [LRdf, DTdf, MLPdf]\n",
    "result = pd.concat(combined, axis=1)\n",
    "result.head()"
   ]
  },
  {
   "cell_type": "code",
   "execution_count": 55,
   "metadata": {},
   "outputs": [
    {
     "data": {
      "text/plain": [
       "0        0\n",
       "1        0\n",
       "2        0\n",
       "3        0\n",
       "4        0\n",
       "5        0\n",
       "6        0\n",
       "7        0\n",
       "8        0\n",
       "9        0\n",
       "10       0\n",
       "11       0\n",
       "12       0\n",
       "13       0\n",
       "14       0\n",
       "15       0\n",
       "16       0\n",
       "17       0\n",
       "18       0\n",
       "19       0\n",
       "20       0\n",
       "21       0\n",
       "22       0\n",
       "23       0\n",
       "24       0\n",
       "25       0\n",
       "26       0\n",
       "27       0\n",
       "28       0\n",
       "29       0\n",
       "        ..\n",
       "1553    47\n",
       "1554    47\n",
       "1555    47\n",
       "1556    47\n",
       "1557    47\n",
       "1558    47\n",
       "1559    47\n",
       "1560    47\n",
       "1561    47\n",
       "1562    47\n",
       "1563    47\n",
       "1564    47\n",
       "1565    47\n",
       "1566    47\n",
       "1567    47\n",
       "1568    47\n",
       "1569    47\n",
       "1570    48\n",
       "1571    48\n",
       "1572    48\n",
       "1573    48\n",
       "1574    48\n",
       "1575    48\n",
       "1576    48\n",
       "1577    48\n",
       "1578    48\n",
       "1579    48\n",
       "1580    50\n",
       "1581    50\n",
       "1582    50\n",
       "Name: Rust, Length: 1583, dtype: object"
      ]
     },
     "execution_count": 55,
     "metadata": {},
     "output_type": "execute_result"
    }
   ],
   "source": [
    "#Ground Truth- Rust = y values- how to convert object y to dataframe?\n",
    "y"
   ]
  },
  {
   "cell_type": "code",
   "execution_count": null,
   "metadata": {},
   "outputs": [],
   "source": []
  },
  {
   "cell_type": "markdown",
   "metadata": {},
   "source": [
    "Great Tutorials on implementing NN: https://medium.com/@pushkarmandot/build-your-first-deep-learning-neural-network-model-using-keras-in-python-a90b5864116d\n",
    "\n",
    "https://www.springboard.com/blog/beginners-guide-neural-network-in-python-scikit-learn-0-18/"
   ]
  },
  {
   "cell_type": "code",
   "execution_count": 13,
   "metadata": {},
   "outputs": [],
   "source": [
    "#Let's try a Multilayer perceptron (MLPRegressor) Neural Network classifier because why not?\n",
    "\n",
    "from sklearn.neural_network import MLPRegressor\n",
    "#Create MLP model with 4 neurons and 4 layers. \n",
    "#Chose 4 since that's the number of features.\n",
    "#Do we need this many neurons for a low mean log loss?\n",
    "\n",
    "mlp= MLPRegressor(activation='relu',solver='lbfgs', hidden_layer_sizes=(4,4,4,4), random_state=1,max_iter=1500)"
   ]
  },
  {
   "cell_type": "code",
   "execution_count": 14,
   "metadata": {},
   "outputs": [
    {
     "data": {
      "text/plain": [
       "MLPRegressor(activation='relu', alpha=0.0001, batch_size='auto', beta_1=0.9,\n",
       "       beta_2=0.999, early_stopping=False, epsilon=1e-08,\n",
       "       hidden_layer_sizes=(4, 4, 4, 4), learning_rate='constant',\n",
       "       learning_rate_init=0.001, max_iter=1500, momentum=0.9,\n",
       "       n_iter_no_change=10, nesterovs_momentum=True, power_t=0.5,\n",
       "       random_state=1, shuffle=True, solver='lbfgs', tol=0.0001,\n",
       "       validation_fraction=0.1, verbose=False, warm_start=False)"
      ]
     },
     "execution_count": 14,
     "metadata": {},
     "output_type": "execute_result"
    }
   ],
   "source": [
    "#Fit training data to model\n",
    "mlp.fit(X_train,y_train)"
   ]
  },
  {
   "cell_type": "code",
   "execution_count": 15,
   "metadata": {},
   "outputs": [],
   "source": [
    "predictions = mlp.predict(X_test)"
   ]
  },
  {
   "cell_type": "code",
   "execution_count": 16,
   "metadata": {},
   "outputs": [],
   "source": [
    "y_true = y_test\n",
    "y_pred = predictions"
   ]
  },
  {
   "cell_type": "code",
   "execution_count": 17,
   "metadata": {},
   "outputs": [
    {
     "name": "stdout",
     "output_type": "stream",
     "text": [
      "MSE MLP 44: 111.93933967773258\n"
     ]
    }
   ],
   "source": [
    "#Since this is a regression problem, let's use MSE (mean squared error) for model measurement\n",
    "from sklearn.metrics import mean_squared_error\n",
    "MSE = mean_squared_error(y_true, y_pred)\n",
    "\n",
    "print ('MSE MLP 44:', MSE)"
   ]
  },
  {
   "cell_type": "code",
   "execution_count": 33,
   "metadata": {},
   "outputs": [
    {
     "name": "stdout",
     "output_type": "stream",
     "text": [
      "MSE MLP 46: 77.51324336385208\n"
     ]
    }
   ],
   "source": [
    "#Now for comparison, create MLP model with 4 neurons and 6 layers. \n",
    "from sklearn.neural_network import MLPRegressor\n",
    "\n",
    "mlp= MLPRegressor(activation='relu',solver='lbfgs', hidden_layer_sizes=(4,4,4,4,4,4), random_state=1,max_iter=1500)\n",
    "\n",
    "#Fit training data to model\n",
    "mlp.fit(X_train,y_train)\n",
    "\n",
    "#Make predictions\n",
    "predictions = mlp.predict(X_test)\n",
    "\n",
    "#Set true and predicted target variables\n",
    "y_true = y_test\n",
    "y_pred = predictions\n",
    "\n",
    "#Measure 4 neurons, 6 layer mean squared error\n",
    "from sklearn.metrics import mean_squared_error\n",
    "MSE = mean_squared_error(y_true, y_pred)\n",
    "\n",
    "print ('MSE MLP 46:', MSE)"
   ]
  },
  {
   "cell_type": "code",
   "execution_count": 34,
   "metadata": {},
   "outputs": [
    {
     "name": "stdout",
     "output_type": "stream",
     "text": [
      "MSE MLP 64: 56.77084781732868\n"
     ]
    }
   ],
   "source": [
    "#Now for comparison, create MLP model with 6 neurons and 4 layers. \n",
    "from sklearn.neural_network import MLPRegressor\n",
    "\n",
    "mlp= MLPRegressor(activation='relu',solver='lbfgs', hidden_layer_sizes=(6,6,6,6), random_state=1,max_iter=1500)\n",
    "\n",
    "#Fit training data to model\n",
    "mlp.fit(X_train,y_train)\n",
    "\n",
    "#Make predictions\n",
    "predictions = mlp.predict(X_test)\n",
    "\n",
    "#Set true and predicted target variables\n",
    "y_true = y_test\n",
    "y_pred = predictions\n",
    "\n",
    "#Measure 6 neurons, 4 layer mean squared error\n",
    "from sklearn.metrics import mean_squared_error\n",
    "MSE = mean_squared_error(y_true, y_pred)\n",
    "\n",
    "print ('MSE MLP 64:', MSE)"
   ]
  },
  {
   "cell_type": "code",
   "execution_count": 48,
   "metadata": {},
   "outputs": [
    {
     "name": "stdout",
     "output_type": "stream",
     "text": [
      "MSE MLP 65 relu: 47.699439892111336\n"
     ]
    }
   ],
   "source": [
    "#6 neurons & 5 layers\n",
    "from sklearn.neural_network import MLPRegressor\n",
    "\n",
    "mlp= MLPRegressor(activation='relu',solver='lbfgs', hidden_layer_sizes=(6,6,6,6,6), random_state=1,max_iter=1500)\n",
    "\n",
    "#Fit training data to model\n",
    "mlp.fit(X_train,y_train)\n",
    "\n",
    "#Make predictions\n",
    "predictions = mlp.predict(X_test)\n",
    "\n",
    "#Set true and predicted target variables\n",
    "y_true = y_test\n",
    "y_pred = predictions\n",
    "\n",
    "#Measure 6 neurons, 5 layer mean squared error\n",
    "from sklearn.metrics import mean_squared_error\n",
    "MSE = mean_squared_error(y_true, y_pred)\n",
    "\n",
    "print ('MSE MLP 65 relu:', MSE)"
   ]
  },
  {
   "cell_type": "code",
   "execution_count": 50,
   "metadata": {},
   "outputs": [
    {
     "name": "stdout",
     "output_type": "stream",
     "text": [
      "MSE MLP 65 relu sgd: 81.84065784319688\n"
     ]
    }
   ],
   "source": [
    "#Let's try to tune the hyperparameters\n",
    "\n",
    "#Change the Solver\n",
    "\n",
    "#6 neurons & 5 layers\n",
    "from sklearn.neural_network import MLPRegressor\n",
    "\n",
    "mlp= MLPRegressor(activation='relu',solver='sgd', hidden_layer_sizes=(6,6,6,6,6), random_state=1,max_iter=1500)\n",
    "\n",
    "#Fit training data to model\n",
    "mlp.fit(X_train,y_train)\n",
    "\n",
    "#Make predictions\n",
    "predictions = mlp.predict(X_test)\n",
    "\n",
    "#Set true and predicted target variables\n",
    "y_true = y_test\n",
    "y_pred = predictions\n",
    "\n",
    "#Measure 6 neurons, 5 layer mean squared error\n",
    "from sklearn.metrics import mean_squared_error\n",
    "MSE = mean_squared_error(y_true, y_pred)\n",
    "\n",
    "print ('MSE MLP 65 relu sgd:', MSE)"
   ]
  },
  {
   "cell_type": "code",
   "execution_count": 51,
   "metadata": {},
   "outputs": [
    {
     "name": "stdout",
     "output_type": "stream",
     "text": [
      "MSE MLP 65 relu adam: 75.9513082189304\n"
     ]
    }
   ],
   "source": [
    "#6 neurons & 5 layers\n",
    "from sklearn.neural_network import MLPRegressor\n",
    "\n",
    "mlp= MLPRegressor(activation='relu',solver='adam', hidden_layer_sizes=(6,6,6,6,6), random_state=1,max_iter=1500)\n",
    "\n",
    "#Fit training data to model\n",
    "mlp.fit(X_train,y_train)\n",
    "\n",
    "#Make predictions\n",
    "predictions = mlp.predict(X_test)\n",
    "\n",
    "#Set true and predicted target variables\n",
    "y_true = y_test\n",
    "y_pred = predictions\n",
    "\n",
    "#Measure 6 neurons, 5 layer mean squared error\n",
    "from sklearn.metrics import mean_squared_error\n",
    "MSE = mean_squared_error(y_true, y_pred)\n",
    "\n",
    "print ('MSE MLP 65 relu adam:', MSE)"
   ]
  },
  {
   "cell_type": "code",
   "execution_count": 46,
   "metadata": {},
   "outputs": [
    {
     "name": "stdout",
     "output_type": "stream",
     "text": [
      "MSE MLP 65 logistic: 89.79101625917413\n"
     ]
    }
   ],
   "source": [
    "#Change the activation function hyperparameter\n",
    "\n",
    "from sklearn.neural_network import MLPRegressor\n",
    "\n",
    "mlp= MLPRegressor(activation='logistic',solver='lbfgs', hidden_layer_sizes=(6,6,6,6,6), random_state=1,max_iter=1500)\n",
    "\n",
    "#Fit training data to model\n",
    "mlp.fit(X_train,y_train)\n",
    "\n",
    "#Make predictions\n",
    "predictions = mlp.predict(X_test)\n",
    "\n",
    "#Set true and predicted target variables\n",
    "y_true = y_test\n",
    "y_pred = predictions\n",
    "\n",
    "#Measure 6 neurons, 5 layer mean squared error\n",
    "from sklearn.metrics import mean_squared_error\n",
    "MSE = mean_squared_error(y_true, y_pred)\n",
    "\n",
    "print ('MSE MLP 65 logistic:', MSE)"
   ]
  },
  {
   "cell_type": "code",
   "execution_count": 47,
   "metadata": {},
   "outputs": [
    {
     "name": "stdout",
     "output_type": "stream",
     "text": [
      "MSE MLP 65 tanh: 54.40638426464971\n"
     ]
    }
   ],
   "source": [
    "from sklearn.neural_network import MLPRegressor\n",
    "\n",
    "mlp= MLPRegressor(activation='tanh',solver='lbfgs', hidden_layer_sizes=(6,6,6,6,6), random_state=1,max_iter=1500)\n",
    "\n",
    "#Fit training data to model\n",
    "mlp.fit(X_train,y_train)\n",
    "\n",
    "#Make predictions\n",
    "predictions = mlp.predict(X_test)\n",
    "\n",
    "#Set true and predicted target variables\n",
    "y_true = y_test\n",
    "y_pred = predictions\n",
    "\n",
    "#Measure 6 neurons, 5 layer mean squared error\n",
    "from sklearn.metrics import mean_squared_error\n",
    "MSE = mean_squared_error(y_true, y_pred)\n",
    "\n",
    "print ('MSE MLP 65 tanh:', MSE)"
   ]
  },
  {
   "cell_type": "code",
   "execution_count": 43,
   "metadata": {},
   "outputs": [
    {
     "name": "stdout",
     "output_type": "stream",
     "text": [
      "MSE MLP 66: 77.34254433245755\n"
     ]
    }
   ],
   "source": [
    "#6 neurons & 6 layers\n",
    "from sklearn.neural_network import MLPRegressor\n",
    "\n",
    "mlp= MLPRegressor(activation='relu',solver='lbfgs', hidden_layer_sizes=(6,6,6,6,6,6), random_state=1,max_iter=1500)\n",
    "\n",
    "#Fit training data to model\n",
    "mlp.fit(X_train,y_train)\n",
    "\n",
    "#Make predictions\n",
    "predictions = mlp.predict(X_test)\n",
    "\n",
    "#Set true and predicted target variables\n",
    "y_true = y_test\n",
    "y_pred = predictions\n",
    "\n",
    "#Measure 6 neurons, 6 layer mean squared error\n",
    "from sklearn.metrics import mean_squared_error\n",
    "MSE = mean_squared_error(y_true, y_pred)\n",
    "\n",
    "print ('MSE MLP 66:', MSE)"
   ]
  },
  {
   "cell_type": "code",
   "execution_count": 42,
   "metadata": {},
   "outputs": [
    {
     "name": "stdout",
     "output_type": "stream",
     "text": [
      "MSE MLP 53: 60.23538622642504\n"
     ]
    }
   ],
   "source": [
    "from sklearn.neural_network import MLPRegressor\n",
    "\n",
    "mlp= MLPRegressor(activation='relu',solver='lbfgs', hidden_layer_sizes=(5,5,5), random_state=1,max_iter=1500)\n",
    "\n",
    "#Fit training data to model\n",
    "mlp.fit(X_train,y_train)\n",
    "\n",
    "#Make predictions\n",
    "predictions = mlp.predict(X_test)\n",
    "\n",
    "#Set true and predicted target variables\n",
    "y_true = y_test\n",
    "y_pred = predictions\n",
    "\n",
    "#Measure 5 neurons, 3 layer mean squared error\n",
    "from sklearn.metrics import mean_squared_error\n",
    "MSE = mean_squared_error(y_true, y_pred)\n",
    "\n",
    "print ('MSE MLP 53:', MSE)"
   ]
  },
  {
   "cell_type": "code",
   "execution_count": 35,
   "metadata": {},
   "outputs": [
    {
     "name": "stdout",
     "output_type": "stream",
     "text": [
      "MSE MLP 62: 86.4030203945308\n"
     ]
    }
   ],
   "source": [
    "#Now for comparison, create MLP model with 6 neurons and 2 layers. \n",
    "from sklearn.neural_network import MLPRegressor\n",
    "\n",
    "mlp= MLPRegressor(activation='relu',solver='lbfgs', hidden_layer_sizes=(6,6), random_state=1,max_iter=1500)\n",
    "\n",
    "#Fit training data to model\n",
    "mlp.fit(X_train,y_train)\n",
    "\n",
    "#Make predictions\n",
    "predictions = mlp.predict(X_test)\n",
    "\n",
    "#Set true and predicted target variables\n",
    "y_true = y_test\n",
    "y_pred = predictions\n",
    "\n",
    "#Measure 4 neurons, 6 layer mean squared error\n",
    "from sklearn.metrics import mean_squared_error\n",
    "MSE = mean_squared_error(y_true, y_pred)\n",
    "\n",
    "print ('MSE MLP 62:', MSE)"
   ]
  },
  {
   "cell_type": "code",
   "execution_count": 36,
   "metadata": {},
   "outputs": [
    {
     "name": "stdout",
     "output_type": "stream",
     "text": [
      "MSE MLP 42: 81.20429642962867\n"
     ]
    }
   ],
   "source": [
    "#Now for comparison, create MLP model with 4 neurons and 2 layers. \n",
    "from sklearn.neural_network import MLPRegressor\n",
    "\n",
    "mlp= MLPRegressor(activation='relu',solver='lbfgs', hidden_layer_sizes=(4,4), random_state=1,max_iter=1500)\n",
    "\n",
    "#Fit training data to model\n",
    "mlp.fit(X_train,y_train)\n",
    "\n",
    "#Make predictions\n",
    "predictions = mlp.predict(X_test)\n",
    "\n",
    "#Set true and predicted target variables\n",
    "y_true = y_test\n",
    "y_pred = predictions\n",
    "\n",
    "#Measure 4 neurons, 6 layer mean squared error\n",
    "from sklearn.metrics import mean_squared_error\n",
    "MSE = mean_squared_error(y_true, y_pred)\n",
    "\n",
    "print ('MSE MLP 42:', MSE)"
   ]
  },
  {
   "cell_type": "code",
   "execution_count": 20,
   "metadata": {},
   "outputs": [],
   "source": [
    "#Let's compare to Logistic Regression as baseline\n",
    "\n",
    "#DATA PREPROCESSING\n",
    "\n",
    "from sklearn import preprocessing\n",
    "from sklearn import utils\n",
    "\n",
    "lab_enc = preprocessing.LabelEncoder()\n",
    "encoded = lab_enc.fit_transform(y_train)"
   ]
  },
  {
   "cell_type": "code",
   "execution_count": 21,
   "metadata": {},
   "outputs": [
    {
     "data": {
      "text/plain": [
       "dtype('float64')"
      ]
     },
     "execution_count": 21,
     "metadata": {},
     "output_type": "execute_result"
    }
   ],
   "source": [
    "#Check the datatype for y_train variable\n",
    "y_train.dtype"
   ]
  },
  {
   "cell_type": "code",
   "execution_count": 22,
   "metadata": {},
   "outputs": [
    {
     "name": "stderr",
     "output_type": "stream",
     "text": [
      "C:\\Users\\laura.kahn\\AppData\\Local\\Continuum\\anaconda3\\lib\\site-packages\\sklearn\\linear_model\\logistic.py:433: FutureWarning: Default solver will be changed to 'lbfgs' in 0.22. Specify a solver to silence this warning.\n",
      "  FutureWarning)\n",
      "C:\\Users\\laura.kahn\\AppData\\Local\\Continuum\\anaconda3\\lib\\site-packages\\sklearn\\linear_model\\logistic.py:460: FutureWarning: Default multi_class will be changed to 'auto' in 0.22. Specify the multi_class option to silence this warning.\n",
      "  \"this warning.\", FutureWarning)\n"
     ]
    },
    {
     "data": {
      "text/plain": [
       "LogisticRegression(C=1.0, class_weight=None, dual=False, fit_intercept=True,\n",
       "          intercept_scaling=1, max_iter=100, multi_class='warn',\n",
       "          n_jobs=None, penalty='l2', random_state=None, solver='warn',\n",
       "          tol=0.0001, verbose=0, warm_start=False)"
      ]
     },
     "execution_count": 22,
     "metadata": {},
     "output_type": "execute_result"
    }
   ],
   "source": [
    "from sklearn.linear_model import LogisticRegression\n",
    "\n",
    "#Fit a Logistic Regression model to the data\n",
    "logistic = LogisticRegression()\n",
    "logistic.fit(X_train, encoded)"
   ]
  },
  {
   "cell_type": "code",
   "execution_count": 23,
   "metadata": {},
   "outputs": [
    {
     "name": "stdout",
     "output_type": "stream",
     "text": [
      "MSE Logistic Regression: 6869.224920562301\n"
     ]
    }
   ],
   "source": [
    "from sklearn.metrics import mean_squared_error\n",
    "MSE = mean_squared_error(y_test, logistic.predict(X_test))\n",
    "print ('MSE Logistic Regression:', MSE)"
   ]
  },
  {
   "cell_type": "markdown",
   "metadata": {},
   "source": [
    "Smaller MSE for Multi-layer perceptron so this is a good starting place on model selection."
   ]
  },
  {
   "cell_type": "code",
   "execution_count": 26,
   "metadata": {},
   "outputs": [
    {
     "data": {
      "text/plain": [
       "DecisionTreeRegressor(criterion='mse', max_depth=None, max_features=None,\n",
       "           max_leaf_nodes=None, min_impurity_decrease=0.0,\n",
       "           min_impurity_split=None, min_samples_leaf=1,\n",
       "           min_samples_split=2, min_weight_fraction_leaf=0.0,\n",
       "           presort=False, random_state=0, splitter='best')"
      ]
     },
     "execution_count": 26,
     "metadata": {},
     "output_type": "execute_result"
    }
   ],
   "source": [
    "#Now let's try a decision tree regressor\n",
    "from sklearn.model_selection import cross_val_score\n",
    "from sklearn.tree import DecisionTreeRegressor\n",
    "\n",
    "regressor = DecisionTreeRegressor(criterion='mse',splitter='best',random_state=0)\n",
    "regressor.fit(X_train,encoded)"
   ]
  },
  {
   "cell_type": "code",
   "execution_count": 53,
   "metadata": {},
   "outputs": [
    {
     "name": "stdout",
     "output_type": "stream",
     "text": [
      "MSE Decision Tree Regressor: 6339.146409381808\n"
     ]
    }
   ],
   "source": [
    "from sklearn.metrics import mean_squared_error\n",
    "MSE = mean_squared_error(y_test, regressor.predict(X_test))\n",
    "print('MSE Decision Tree Regressor:', MSE)"
   ]
  },
  {
   "cell_type": "markdown",
   "metadata": {},
   "source": [
    "### Visualize the Mean Squared Error of the Models"
   ]
  },
  {
   "cell_type": "code",
   "execution_count": 42,
   "metadata": {},
   "outputs": [
    {
     "data": {
      "image/png": "[encoded data removed]",
      "text/plain": [
       "<Figure size 432x288 with 1 Axes>"
      ]
     },
     "metadata": {
      "needs_background": "light"
     },
     "output_type": "display_data"
    }
   ],
   "source": [
    "#Plot Classifier Percent Prediction Errors. All classifiers have less than 1% error which makes them pretty super\n",
    "#classifiers.\n",
    "\n",
    "import numpy as np\n",
    "import matplotlib.pyplot as plt\n",
    "from matplotlib.pyplot import *\n",
    "%matplotlib inline\n",
    "\n",
    "labels = ['LogRegr', 'DTRegr', 'MLP ANN 65']\n",
    "#Rotate Labels to make them readable\n",
    "plt.xticks(fontsize=12, rotation=45)\n",
    "plt.yticks(fontsize=12)\n",
    "#add data\n",
    "#Note the negative value (direction of error is not important so these values have been changed to positive.)\n",
    "data = [6619.78, 6179.33, 54.41]\n",
    "\n",
    "xlocations = np.array(range(len(data)))+0.5\n",
    "width = 0.25\n",
    "bar(xlocations, data, width=width, color='#964B00')\n",
    "yticks(fontsize=12)\n",
    "xticks(xlocations+ width/2, labels, fontsize=12)\n",
    "xlim(0, xlocations[-1]+width*2)\n",
    "\n",
    "#Set limit to y axis\n",
    "plt.ylim(ymax = 6800, ymin=0)\n",
    "#Add title to plot\n",
    "title('Coffee Rust Mean Squared Error', fontsize=14)\n",
    "plt.xlabel(\"Model Type\",fontsize=14)\n",
    "plt.ylabel(\"Mean Squared Error\",fontsize=14)\n",
    "gca().get_xaxis().tick_bottom()\n",
    "gca().get_yaxis().tick_left()\n",
    "show()"
   ]
  },
  {
   "cell_type": "code",
   "execution_count": 18,
   "metadata": {},
   "outputs": [
    {
     "name": "stderr",
     "output_type": "stream",
     "text": [
      "C:\\Users\\laura.kahn\\AppData\\Local\\Continuum\\anaconda3\\lib\\site-packages\\sklearn\\model_selection\\_split.py:2053: FutureWarning: You should specify a value for 'cv' instead of relying on the default value. The default value will change from 3 to 5 in version 0.22.\n",
      "  warnings.warn(CV_WARNING, FutureWarning)\n"
     ]
    },
    {
     "data": {
      "text/plain": [
       "array([-113.57165911,   -0.88114066,   -5.99050149])"
      ]
     },
     "execution_count": 18,
     "metadata": {},
     "output_type": "execute_result"
    }
   ],
   "source": [
    "from sklearn import model_selection\n",
    "\n",
    "#Goodness of Fit, R squared\n",
    "scoring = 'r2'\n",
    "\n",
    "goodness_MLP = model_selection.cross_val_score(mlp, X, y, scoring=scoring)\n",
    "goodness_MLP"
   ]
  },
  {
   "cell_type": "code",
   "execution_count": 27,
   "metadata": {},
   "outputs": [
    {
     "name": "stderr",
     "output_type": "stream",
     "text": [
      "C:\\Users\\laura.kahn\\AppData\\Local\\Continuum\\anaconda3\\lib\\site-packages\\sklearn\\model_selection\\_split.py:2053: FutureWarning: You should specify a value for 'cv' instead of relying on the default value. The default value will change from 3 to 5 in version 0.22.\n",
      "  warnings.warn(CV_WARNING, FutureWarning)\n"
     ]
    },
    {
     "data": {
      "text/plain": [
       "array([-85.19287375, -10.40930856,  -6.20851164])"
      ]
     },
     "execution_count": 27,
     "metadata": {},
     "output_type": "execute_result"
    }
   ],
   "source": [
    "scoring = 'r2'\n",
    "\n",
    "goodness_DTregr = model_selection.cross_val_score(regressor, X, y, scoring=scoring)\n",
    "goodness_DTregr"
   ]
  },
  {
   "cell_type": "code",
   "execution_count": null,
   "metadata": {},
   "outputs": [],
   "source": []
  }
 ],
 "metadata": {
  "kernelspec": {
   "display_name": "Python 3",
   "language": "python",
   "name": "python3"
  },
  "language_info": {
   "codemirror_mode": {
    "name": "ipython",
    "version": 3
   },
   "file_extension": ".py",
   "mimetype": "text/x-python",
   "name": "python",
   "nbconvert_exporter": "python",
   "pygments_lexer": "ipython3",
   "version": "3.7.1"
  }
 },
 "nbformat": 4,
 "nbformat_minor": 2
}
